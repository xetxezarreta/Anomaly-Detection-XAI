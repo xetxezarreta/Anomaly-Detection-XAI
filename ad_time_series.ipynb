{
 "cells": [
  {
   "cell_type": "markdown",
   "metadata": {},
   "source": [
    "# Resample Time-Series"
   ]
  },
  {
   "cell_type": "code",
   "execution_count": 1,
   "metadata": {},
   "outputs": [
    {
     "name": "stdout",
     "output_type": "stream",
     "text": [
      "Z:\\Descargas\\CSV_DATA\\0.csv 857\n",
      "Z:\\Descargas\\CSV_DATA\\1015.csv 832\n"
     ]
    },
    {
     "data": {
      "text/plain": [
       "(832, 'Z:\\\\Descargas\\\\CSV_DATA\\\\1015.csv')"
      ]
     },
     "execution_count": 1,
     "metadata": {},
     "output_type": "execute_result"
    }
   ],
   "source": [
    "import pandas as pd\n",
    "from glob import glob\n",
    "\n",
    "def get_shortest_ts():\n",
    "    files = glob('Z:\\Descargas\\CSV_DATA\\*.csv')\n",
    "    min_samples = 999999999999\n",
    "    file_min = None\n",
    "    for file in files:\n",
    "        df = pd.read_csv(file)\n",
    "        row_count = df.shape[0]\n",
    "        if row_count < min_samples:\n",
    "            min_samples = row_count\n",
    "            file_min = file\n",
    "            print(file, str(row_count))\n",
    "            #if min_samples == 832:\n",
    "            #    break\n",
    "    return min_samples, file_min\n",
    "\n",
    "get_shortest_ts()"
   ]
  },
  {
   "cell_type": "markdown",
   "metadata": {},
   "source": [
    "![](img/composite.PNG)"
   ]
  },
  {
   "cell_type": "code",
   "execution_count": 5,
   "metadata": {},
   "outputs": [],
   "source": [
    "from scipy import signal\n",
    "from glob import glob\n",
    "import pandas as pd\n",
    "\n",
    "def resample_data():\n",
    "    size = 832\n",
    "    files = glob('Z:\\Descargas\\CSV_DATA\\*.csv')\n",
    "    for file in files:\n",
    "        df = pd.read_csv(file)\n",
    "        col_names = ('Flow rate', 'Pressure')\n",
    "        col_names = ('Flow rate', 'Zone9_Pressure', 'Zone16_Pressure', 'Zone17_Pressure', 'Zone24_Pressure')\n",
    "        cols = [col for col in df if col.endswith(col_names)]    \n",
    "        resampled_df = pd.DataFrame(signal.resample(df[cols], int(832)))\n",
    "        resampled_df['TOTAL_QUALITY'] = df['TOTAL_QUALITY']\n",
    "        resampled_df.to_csv(file.replace('CSV_DATA', 'CSV_DATA_RESAMPLED'))\n",
    "        \n",
    "resample_data()"
   ]
  },
  {
   "cell_type": "markdown",
   "metadata": {},
   "source": [
    "# FROM 3D to 2D"
   ]
  },
  {
   "cell_type": "code",
   "execution_count": 6,
   "metadata": {},
   "outputs": [],
   "source": [
    "import os\n",
    "from glob import glob\n",
    "import pandas as pd\n",
    "         \n",
    "def convert_ts_into_2D():\n",
    "    files = glob('Z:\\Descargas\\CSV_DATA_RESAMPLED\\*.csv')\n",
    "    for file in files:\n",
    "        df = pd.read_csv(file)\n",
    "        df = df.loc[:, ~df.columns.str.contains('^Unnamed')].T\n",
    "        series = None\n",
    "        for index, row in df.iterrows():\n",
    "            if index == 'TOTAL_QUALITY':\n",
    "                series = pd.concat([series, pd.Series(int(row[0]), dtype=object)])               \n",
    "            else:\n",
    "                series = pd.concat([series, row])               \n",
    "         \n",
    "        #series = series.reset_index(drop=True)  \n",
    "        new_df = pd.DataFrame().append(pd.Series(list(series)), ignore_index=True)\n",
    "        # append series into csv\n",
    "        output_file = 'Z:\\\\Descargas\\\\resampled_2d_data.csv'\n",
    "        if not os.path.isfile(output_file):\n",
    "            new_df.to_csv(output_file)\n",
    "        else:\n",
    "            new_df.to_csv(output_file, mode='a', header=False)            \n",
    "        \n",
    "convert_ts_into_2D()"
   ]
  },
  {
   "cell_type": "markdown",
   "metadata": {},
   "source": [
    "### Scale the data"
   ]
  },
  {
   "cell_type": "code",
   "execution_count": 8,
   "metadata": {},
   "outputs": [],
   "source": [
    "import numpy as np\n",
    "import pandas as pd\n",
    "from sklearn.preprocessing import StandardScaler\n",
    "\n",
    "df = pd.read_csv('Z:\\\\Descargas\\\\resampled_2d_data.csv')\n",
    "df = df.loc[:, ~df.columns.str.contains('^Unnamed')]\n",
    "X = df.iloc[:,:-1]\n",
    "y = df.iloc[:,-1]\n",
    "\n",
    "df = None\n",
    "#dfs = np.split(X, 29, axis=1) # 29 sensors, each sensor 832 columns\n",
    "dfs = np.split(X, 5, axis=1)"
   ]
  },
  {
   "cell_type": "code",
   "execution_count": 9,
   "metadata": {},
   "outputs": [
    {
     "data": {
      "text/plain": [
       "5"
      ]
     },
     "execution_count": 9,
     "metadata": {},
     "output_type": "execute_result"
    }
   ],
   "source": [
    "# http://citeseerx.ist.psu.edu/viewdoc/download?doi=10.1.1.862.1452&rep=rep1&type=pdf\n",
    "import math\n",
    "    \n",
    "def group_scalling(df):    \n",
    "    Uj = np.mean(df.values)    \n",
    "    Qj2 = np.mean(((df - Uj)**2).values)    \n",
    "    new_df = df.copy() \n",
    "    for col in df:\n",
    "        new_df[col] = (new_df[col] - np.mean(new_df[col])) / math.sqrt(Qj2)      \n",
    "    return new_df \n",
    "\n",
    "scalled_dfs = []\n",
    "for df in dfs: \n",
    "    scalled_df = group_scalling(df)   \n",
    "    scalled_dfs.append(scalled_df)\n",
    "dfs = None\n",
    "    \n",
    "len(scalled_dfs)"
   ]
  },
  {
   "cell_type": "code",
   "execution_count": 10,
   "metadata": {},
   "outputs": [
    {
     "data": {
      "text/html": [
       "<div>\n",
       "<style scoped>\n",
       "    .dataframe tbody tr th:only-of-type {\n",
       "        vertical-align: middle;\n",
       "    }\n",
       "\n",
       "    .dataframe tbody tr th {\n",
       "        vertical-align: top;\n",
       "    }\n",
       "\n",
       "    .dataframe thead th {\n",
       "        text-align: right;\n",
       "    }\n",
       "</style>\n",
       "<table border=\"1\" class=\"dataframe\">\n",
       "  <thead>\n",
       "    <tr style=\"text-align: right;\">\n",
       "      <th></th>\n",
       "      <th>0</th>\n",
       "      <th>1</th>\n",
       "      <th>2</th>\n",
       "      <th>3</th>\n",
       "      <th>4</th>\n",
       "      <th>5</th>\n",
       "      <th>6</th>\n",
       "      <th>7</th>\n",
       "      <th>8</th>\n",
       "      <th>9</th>\n",
       "      <th>...</th>\n",
       "      <th>4151</th>\n",
       "      <th>4152</th>\n",
       "      <th>4153</th>\n",
       "      <th>4154</th>\n",
       "      <th>4155</th>\n",
       "      <th>4156</th>\n",
       "      <th>4157</th>\n",
       "      <th>4158</th>\n",
       "      <th>4159</th>\n",
       "      <th>target</th>\n",
       "    </tr>\n",
       "  </thead>\n",
       "  <tbody>\n",
       "    <tr>\n",
       "      <th>0</th>\n",
       "      <td>-0.026300</td>\n",
       "      <td>0.012386</td>\n",
       "      <td>-0.008092</td>\n",
       "      <td>0.005742</td>\n",
       "      <td>-0.005080</td>\n",
       "      <td>0.003726</td>\n",
       "      <td>-0.003559</td>\n",
       "      <td>0.002265</td>\n",
       "      <td>-0.002652</td>\n",
       "      <td>0.001683</td>\n",
       "      <td>...</td>\n",
       "      <td>-1.799171</td>\n",
       "      <td>-1.777926</td>\n",
       "      <td>-1.808668</td>\n",
       "      <td>-1.776635</td>\n",
       "      <td>-1.798714</td>\n",
       "      <td>-1.724143</td>\n",
       "      <td>-1.729821</td>\n",
       "      <td>-1.593342</td>\n",
       "      <td>-1.872527</td>\n",
       "      <td>1.0</td>\n",
       "    </tr>\n",
       "    <tr>\n",
       "      <th>1</th>\n",
       "      <td>-0.026291</td>\n",
       "      <td>0.012375</td>\n",
       "      <td>-0.008077</td>\n",
       "      <td>0.005730</td>\n",
       "      <td>-0.005055</td>\n",
       "      <td>0.003726</td>\n",
       "      <td>-0.003555</td>\n",
       "      <td>0.002278</td>\n",
       "      <td>-0.002637</td>\n",
       "      <td>0.001679</td>\n",
       "      <td>...</td>\n",
       "      <td>-1.745006</td>\n",
       "      <td>-1.711579</td>\n",
       "      <td>-1.741869</td>\n",
       "      <td>-1.704129</td>\n",
       "      <td>-1.695839</td>\n",
       "      <td>-1.628818</td>\n",
       "      <td>-1.632704</td>\n",
       "      <td>-1.498414</td>\n",
       "      <td>-1.776719</td>\n",
       "      <td>0.0</td>\n",
       "    </tr>\n",
       "    <tr>\n",
       "      <th>2</th>\n",
       "      <td>-0.026287</td>\n",
       "      <td>0.012373</td>\n",
       "      <td>-0.008197</td>\n",
       "      <td>0.005746</td>\n",
       "      <td>-0.004566</td>\n",
       "      <td>0.003258</td>\n",
       "      <td>-0.003556</td>\n",
       "      <td>0.002317</td>\n",
       "      <td>-0.002931</td>\n",
       "      <td>0.001599</td>\n",
       "      <td>...</td>\n",
       "      <td>-1.690877</td>\n",
       "      <td>-1.720176</td>\n",
       "      <td>-1.775703</td>\n",
       "      <td>-1.725429</td>\n",
       "      <td>-1.737408</td>\n",
       "      <td>-1.720821</td>\n",
       "      <td>-1.771621</td>\n",
       "      <td>-1.733746</td>\n",
       "      <td>-1.967240</td>\n",
       "      <td>1.0</td>\n",
       "    </tr>\n",
       "    <tr>\n",
       "      <th>3</th>\n",
       "      <td>-0.026338</td>\n",
       "      <td>0.012398</td>\n",
       "      <td>-0.008062</td>\n",
       "      <td>0.005738</td>\n",
       "      <td>-0.004903</td>\n",
       "      <td>0.003814</td>\n",
       "      <td>-0.003600</td>\n",
       "      <td>0.002545</td>\n",
       "      <td>-0.002659</td>\n",
       "      <td>0.001805</td>\n",
       "      <td>...</td>\n",
       "      <td>-1.500119</td>\n",
       "      <td>-1.466589</td>\n",
       "      <td>-1.475559</td>\n",
       "      <td>-1.429498</td>\n",
       "      <td>-1.410127</td>\n",
       "      <td>-1.338661</td>\n",
       "      <td>-1.268137</td>\n",
       "      <td>-1.184127</td>\n",
       "      <td>-1.439020</td>\n",
       "      <td>0.0</td>\n",
       "    </tr>\n",
       "    <tr>\n",
       "      <th>4</th>\n",
       "      <td>-0.026354</td>\n",
       "      <td>0.012393</td>\n",
       "      <td>-0.008022</td>\n",
       "      <td>0.005709</td>\n",
       "      <td>-0.004736</td>\n",
       "      <td>0.003864</td>\n",
       "      <td>-0.002941</td>\n",
       "      <td>0.002987</td>\n",
       "      <td>-0.002444</td>\n",
       "      <td>0.002208</td>\n",
       "      <td>...</td>\n",
       "      <td>-1.142481</td>\n",
       "      <td>-1.164907</td>\n",
       "      <td>-1.177940</td>\n",
       "      <td>-1.201010</td>\n",
       "      <td>-1.217921</td>\n",
       "      <td>-1.235709</td>\n",
       "      <td>-1.277332</td>\n",
       "      <td>-1.275266</td>\n",
       "      <td>-1.554896</td>\n",
       "      <td>0.0</td>\n",
       "    </tr>\n",
       "    <tr>\n",
       "      <th>...</th>\n",
       "      <td>...</td>\n",
       "      <td>...</td>\n",
       "      <td>...</td>\n",
       "      <td>...</td>\n",
       "      <td>...</td>\n",
       "      <td>...</td>\n",
       "      <td>...</td>\n",
       "      <td>...</td>\n",
       "      <td>...</td>\n",
       "      <td>...</td>\n",
       "      <td>...</td>\n",
       "      <td>...</td>\n",
       "      <td>...</td>\n",
       "      <td>...</td>\n",
       "      <td>...</td>\n",
       "      <td>...</td>\n",
       "      <td>...</td>\n",
       "      <td>...</td>\n",
       "      <td>...</td>\n",
       "      <td>...</td>\n",
       "      <td>...</td>\n",
       "    </tr>\n",
       "    <tr>\n",
       "      <th>10009</th>\n",
       "      <td>-0.026215</td>\n",
       "      <td>0.012354</td>\n",
       "      <td>-0.007746</td>\n",
       "      <td>0.007024</td>\n",
       "      <td>-0.003921</td>\n",
       "      <td>0.004430</td>\n",
       "      <td>-0.002762</td>\n",
       "      <td>0.002972</td>\n",
       "      <td>-0.001778</td>\n",
       "      <td>0.003094</td>\n",
       "      <td>...</td>\n",
       "      <td>-0.105710</td>\n",
       "      <td>-0.116192</td>\n",
       "      <td>-0.140454</td>\n",
       "      <td>-0.151895</td>\n",
       "      <td>-0.177162</td>\n",
       "      <td>-0.187374</td>\n",
       "      <td>-0.232111</td>\n",
       "      <td>-0.243973</td>\n",
       "      <td>-0.502269</td>\n",
       "      <td>1.0</td>\n",
       "    </tr>\n",
       "    <tr>\n",
       "      <th>10010</th>\n",
       "      <td>-0.026361</td>\n",
       "      <td>0.012392</td>\n",
       "      <td>-0.007986</td>\n",
       "      <td>0.005731</td>\n",
       "      <td>-0.004498</td>\n",
       "      <td>0.003870</td>\n",
       "      <td>-0.002851</td>\n",
       "      <td>0.002938</td>\n",
       "      <td>-0.002329</td>\n",
       "      <td>0.001862</td>\n",
       "      <td>...</td>\n",
       "      <td>1.404091</td>\n",
       "      <td>1.386155</td>\n",
       "      <td>1.387888</td>\n",
       "      <td>1.362908</td>\n",
       "      <td>1.366994</td>\n",
       "      <td>1.336298</td>\n",
       "      <td>1.329804</td>\n",
       "      <td>1.282070</td>\n",
       "      <td>1.127070</td>\n",
       "      <td>1.0</td>\n",
       "    </tr>\n",
       "    <tr>\n",
       "      <th>10011</th>\n",
       "      <td>-0.026332</td>\n",
       "      <td>0.012375</td>\n",
       "      <td>-0.007990</td>\n",
       "      <td>0.005694</td>\n",
       "      <td>-0.004622</td>\n",
       "      <td>0.003822</td>\n",
       "      <td>-0.002967</td>\n",
       "      <td>0.002907</td>\n",
       "      <td>-0.002355</td>\n",
       "      <td>0.001878</td>\n",
       "      <td>...</td>\n",
       "      <td>-0.530891</td>\n",
       "      <td>-0.524270</td>\n",
       "      <td>-0.536774</td>\n",
       "      <td>-0.531969</td>\n",
       "      <td>-0.546175</td>\n",
       "      <td>-0.524012</td>\n",
       "      <td>-0.547707</td>\n",
       "      <td>-0.508145</td>\n",
       "      <td>-0.707498</td>\n",
       "      <td>1.0</td>\n",
       "    </tr>\n",
       "    <tr>\n",
       "      <th>10012</th>\n",
       "      <td>-0.026326</td>\n",
       "      <td>0.012366</td>\n",
       "      <td>-0.007977</td>\n",
       "      <td>0.005688</td>\n",
       "      <td>-0.004589</td>\n",
       "      <td>0.003818</td>\n",
       "      <td>-0.002935</td>\n",
       "      <td>0.002900</td>\n",
       "      <td>-0.002335</td>\n",
       "      <td>0.001857</td>\n",
       "      <td>...</td>\n",
       "      <td>-0.531561</td>\n",
       "      <td>-0.524025</td>\n",
       "      <td>-0.534427</td>\n",
       "      <td>-0.530749</td>\n",
       "      <td>-0.544126</td>\n",
       "      <td>-0.523017</td>\n",
       "      <td>-0.545251</td>\n",
       "      <td>-0.507784</td>\n",
       "      <td>-0.703672</td>\n",
       "      <td>1.0</td>\n",
       "    </tr>\n",
       "    <tr>\n",
       "      <th>10013</th>\n",
       "      <td>-0.026331</td>\n",
       "      <td>0.012374</td>\n",
       "      <td>-0.007990</td>\n",
       "      <td>0.005694</td>\n",
       "      <td>-0.004627</td>\n",
       "      <td>0.003821</td>\n",
       "      <td>-0.002972</td>\n",
       "      <td>0.002907</td>\n",
       "      <td>-0.002357</td>\n",
       "      <td>0.001880</td>\n",
       "      <td>...</td>\n",
       "      <td>-0.431171</td>\n",
       "      <td>-0.421770</td>\n",
       "      <td>-0.431907</td>\n",
       "      <td>-0.427549</td>\n",
       "      <td>-0.439417</td>\n",
       "      <td>-0.417118</td>\n",
       "      <td>-0.437849</td>\n",
       "      <td>-0.398072</td>\n",
       "      <td>-0.590003</td>\n",
       "      <td>0.0</td>\n",
       "    </tr>\n",
       "  </tbody>\n",
       "</table>\n",
       "<p>10014 rows × 4161 columns</p>\n",
       "</div>"
      ],
      "text/plain": [
       "              0         1         2         3         4         5         6  \\\n",
       "0     -0.026300  0.012386 -0.008092  0.005742 -0.005080  0.003726 -0.003559   \n",
       "1     -0.026291  0.012375 -0.008077  0.005730 -0.005055  0.003726 -0.003555   \n",
       "2     -0.026287  0.012373 -0.008197  0.005746 -0.004566  0.003258 -0.003556   \n",
       "3     -0.026338  0.012398 -0.008062  0.005738 -0.004903  0.003814 -0.003600   \n",
       "4     -0.026354  0.012393 -0.008022  0.005709 -0.004736  0.003864 -0.002941   \n",
       "...         ...       ...       ...       ...       ...       ...       ...   \n",
       "10009 -0.026215  0.012354 -0.007746  0.007024 -0.003921  0.004430 -0.002762   \n",
       "10010 -0.026361  0.012392 -0.007986  0.005731 -0.004498  0.003870 -0.002851   \n",
       "10011 -0.026332  0.012375 -0.007990  0.005694 -0.004622  0.003822 -0.002967   \n",
       "10012 -0.026326  0.012366 -0.007977  0.005688 -0.004589  0.003818 -0.002935   \n",
       "10013 -0.026331  0.012374 -0.007990  0.005694 -0.004627  0.003821 -0.002972   \n",
       "\n",
       "              7         8         9  ...      4151      4152      4153  \\\n",
       "0      0.002265 -0.002652  0.001683  ... -1.799171 -1.777926 -1.808668   \n",
       "1      0.002278 -0.002637  0.001679  ... -1.745006 -1.711579 -1.741869   \n",
       "2      0.002317 -0.002931  0.001599  ... -1.690877 -1.720176 -1.775703   \n",
       "3      0.002545 -0.002659  0.001805  ... -1.500119 -1.466589 -1.475559   \n",
       "4      0.002987 -0.002444  0.002208  ... -1.142481 -1.164907 -1.177940   \n",
       "...         ...       ...       ...  ...       ...       ...       ...   \n",
       "10009  0.002972 -0.001778  0.003094  ... -0.105710 -0.116192 -0.140454   \n",
       "10010  0.002938 -0.002329  0.001862  ...  1.404091  1.386155  1.387888   \n",
       "10011  0.002907 -0.002355  0.001878  ... -0.530891 -0.524270 -0.536774   \n",
       "10012  0.002900 -0.002335  0.001857  ... -0.531561 -0.524025 -0.534427   \n",
       "10013  0.002907 -0.002357  0.001880  ... -0.431171 -0.421770 -0.431907   \n",
       "\n",
       "           4154      4155      4156      4157      4158      4159  target  \n",
       "0     -1.776635 -1.798714 -1.724143 -1.729821 -1.593342 -1.872527     1.0  \n",
       "1     -1.704129 -1.695839 -1.628818 -1.632704 -1.498414 -1.776719     0.0  \n",
       "2     -1.725429 -1.737408 -1.720821 -1.771621 -1.733746 -1.967240     1.0  \n",
       "3     -1.429498 -1.410127 -1.338661 -1.268137 -1.184127 -1.439020     0.0  \n",
       "4     -1.201010 -1.217921 -1.235709 -1.277332 -1.275266 -1.554896     0.0  \n",
       "...         ...       ...       ...       ...       ...       ...     ...  \n",
       "10009 -0.151895 -0.177162 -0.187374 -0.232111 -0.243973 -0.502269     1.0  \n",
       "10010  1.362908  1.366994  1.336298  1.329804  1.282070  1.127070     1.0  \n",
       "10011 -0.531969 -0.546175 -0.524012 -0.547707 -0.508145 -0.707498     1.0  \n",
       "10012 -0.530749 -0.544126 -0.523017 -0.545251 -0.507784 -0.703672     1.0  \n",
       "10013 -0.427549 -0.439417 -0.417118 -0.437849 -0.398072 -0.590003     0.0  \n",
       "\n",
       "[10014 rows x 4161 columns]"
      ]
     },
     "execution_count": 10,
     "metadata": {},
     "output_type": "execute_result"
    }
   ],
   "source": [
    "scalled_df = pd.concat(scalled_dfs, axis=1)\n",
    "scalled_df['target'] = y\n",
    "scalled_df"
   ]
  },
  {
   "cell_type": "code",
   "execution_count": 11,
   "metadata": {},
   "outputs": [],
   "source": [
    "scalled_df.to_csv('Z:\\\\Descargas\\\\resampled_ts_group_scalled.csv')"
   ]
  },
  {
   "cell_type": "markdown",
   "metadata": {},
   "source": [
    "# DETECT ANOMALIES"
   ]
  },
  {
   "cell_type": "code",
   "execution_count": 1,
   "metadata": {},
   "outputs": [
    {
     "name": "stdout",
     "output_type": "stream",
     "text": [
      "Target 1 shape: (5055, 4161)\n",
      "Target 0 shape: (4959, 4161)\n"
     ]
    }
   ],
   "source": [
    "import pandas as pd\n",
    "from sklearn.preprocessing import StandardScaler\n",
    "\n",
    "df = pd.read_csv('Z:\\\\Descargas\\\\resampled_ts_group_scalled.csv')\n",
    "df = df.loc[:, ~df.columns.str.contains('^Unnamed')]\n",
    "X = df.iloc[:,:-1]\n",
    "y = df.iloc[:,-1]\n",
    "df = pd.DataFrame(X)\n",
    "df['target'] = y\n",
    "\n",
    "# Divide dataframe depending on target\n",
    "df_correct = df.loc[df['target'] == 1]\n",
    "df_incorrect = df.loc[df['target'] == 0]\n",
    "\n",
    "# Print each target shape\n",
    "print('Target 1 shape: ' + str(df_correct.shape))\n",
    "print('Target 0 shape: ' + str(df_incorrect.shape))"
   ]
  },
  {
   "cell_type": "code",
   "execution_count": 2,
   "metadata": {},
   "outputs": [],
   "source": [
    "from sklearn.utils import shuffle\n",
    "from sklearn.model_selection import train_test_split\n",
    "\n",
    "df_train, df_test_correct = train_test_split(df_correct, test_size=0.2, random_state=0)\n",
    "df_test_incorrect = df_incorrect\n",
    "\n",
    "X_train = df_train.iloc[:,:-1]\n",
    "X_test_correct = df_test_correct.iloc[:,:-1]\n",
    "X_test_incorrect = df_test_incorrect.iloc[:,:-1]"
   ]
  },
  {
   "cell_type": "markdown",
   "metadata": {},
   "source": [
    "### PCA"
   ]
  },
  {
   "cell_type": "code",
   "execution_count": 3,
   "metadata": {},
   "outputs": [
    {
     "name": "stdout",
     "output_type": "stream",
     "text": [
      "0.29364827120675585\n",
      "2 Principal Components\n"
     ]
    }
   ],
   "source": [
    "import numpy as np\n",
    "from sklearn.decomposition import PCA\n",
    "from models.model import ReconstructionErrorModel\n",
    "\n",
    "# Fit reconstruction error model with correct data\n",
    "model = ReconstructionErrorModel(X_train, model=PCA(n_components=0.9))\n",
    "\n",
    "# Calculate anomaly threshold with correct data\n",
    "train_errors = model.predict(X_train)\n",
    "threshold = np.mean(train_errors) + (np.std(train_errors) * 3)\n",
    "\n",
    "# Print principal components\n",
    "print(threshold)\n",
    "print('%i Principal Components' % len(model.get_model().explained_variance_))"
   ]
  },
  {
   "cell_type": "code",
   "execution_count": 9,
   "metadata": {},
   "outputs": [
    {
     "data": {
      "image/png": "[encoded data removed]",
      "text/plain": [
       "<Figure size 432x288 with 1 Axes>"
      ]
     },
     "metadata": {
      "needs_background": "light"
     },
     "output_type": "display_data"
    }
   ],
   "source": [
    "import matplotlib.pyplot as plt\n",
    "\n",
    "plt.hist(model.predict(X_train))\n",
    "plt.show()"
   ]
  },
  {
   "cell_type": "code",
   "execution_count": 10,
   "metadata": {},
   "outputs": [
    {
     "data": {
      "image/png": "[encoded data removed]",
      "text/plain": [
       "<Figure size 432x288 with 1 Axes>"
      ]
     },
     "metadata": {
      "needs_background": "light"
     },
     "output_type": "display_data"
    }
   ],
   "source": [
    "import matplotlib.pyplot as plt\n",
    "\n",
    "plt.hist(model.predict(X_test_correct))\n",
    "plt.show()"
   ]
  },
  {
   "cell_type": "code",
   "execution_count": 12,
   "metadata": {},
   "outputs": [
    {
     "data": {
      "image/png": "[encoded data removed]",
      "text/plain": [
       "<Figure size 432x288 with 1 Axes>"
      ]
     },
     "metadata": {
      "needs_background": "light"
     },
     "output_type": "display_data"
    }
   ],
   "source": [
    "import matplotlib.pyplot as plt\n",
    "\n",
    "plt.hist(model.predict(X_test_incorrect))\n",
    "plt.show()"
   ]
  },
  {
   "cell_type": "code",
   "execution_count": 25,
   "metadata": {},
   "outputs": [],
   "source": [
    "threshold = 0.08"
   ]
  },
  {
   "cell_type": "code",
   "execution_count": 26,
   "metadata": {},
   "outputs": [
    {
     "name": "stdout",
     "output_type": "stream",
     "text": [
      "Anomalies with train data 1414\n",
      "Anomalies with test correct data 357\n",
      "Anomalies with test incorrect data 3057\n"
     ]
    }
   ],
   "source": [
    "# Calculate how many train instances are detected as anomalies\n",
    "errors = model.predict(X_train)\n",
    "anomalies = np.where(errors > threshold)[0]\n",
    "print('Anomalies with train data %s' % str(len(anomalies)))\n",
    "\n",
    "# Calculate how many test correct instances are detected as anomalies\n",
    "errors = model.predict(X_test_correct)\n",
    "anomalies = np.where(errors > threshold)[0]\n",
    "print('Anomalies with test correct data %s' % str(len(anomalies)))\n",
    "\n",
    "# Calculate how many test incorrect instances are detected as anomalies\n",
    "errors = model.predict(X_test_incorrect)\n",
    "anomalies = np.where(errors > threshold)[0]\n",
    "print('Anomalies with test incorrect data %s' % str(len(anomalies)))"
   ]
  },
  {
   "cell_type": "code",
   "execution_count": null,
   "metadata": {},
   "outputs": [],
   "source": []
  }
 ],
 "metadata": {
  "file_extension": ".py",
  "kernelspec": {
   "display_name": "Python 3",
   "language": "python",
   "name": "python3"
  },
  "language_info": {
   "codemirror_mode": {
    "name": "ipython",
    "version": 3
   },
   "file_extension": ".py",
   "mimetype": "text/x-python",
   "name": "python",
   "nbconvert_exporter": "python",
   "pygments_lexer": "ipython3",
   "version": "3.8.2"
  },
  "mimetype": "text/x-python",
  "name": "python",
  "npconvert_exporter": "python",
  "pygments_lexer": "ipython3",
  "version": 3
 },
 "nbformat": 4,
 "nbformat_minor": 2
}
