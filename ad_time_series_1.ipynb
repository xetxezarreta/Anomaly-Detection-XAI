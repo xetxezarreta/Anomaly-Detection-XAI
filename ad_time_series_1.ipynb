{
 "cells": [
  {
   "cell_type": "markdown",
   "metadata": {},
   "source": [
    "# Resample Time-Series"
   ]
  },
  {
   "cell_type": "code",
   "execution_count": null,
   "metadata": {},
   "outputs": [
    {
     "name": "stdout",
     "output_type": "stream",
     "text": [
      "Z:\\Descargas\\CSV_DATA\\0.csv 857\n",
      "Z:\\Descargas\\CSV_DATA\\1015.csv 832\n"
     ]
    }
   ],
   "source": [
    "import pandas as pd\n",
    "from glob import glob\n",
    "\n",
    "def get_shortest_ts():\n",
    "    files = glob('Z:\\Descargas\\CSV_DATA\\*.csv')\n",
    "    min_samples = 999999999999\n",
    "    file_min = None\n",
    "    for file in files:\n",
    "        df = pd.read_csv(file)\n",
    "        row_count = df.shape[0]\n",
    "        if row_count < min_samples:\n",
    "            min_samples = row_count\n",
    "            file_min = file\n",
    "            print(file, str(row_count))\n",
    "            #if min_samples == 832:\n",
    "            #    break\n",
    "    return min_samples, file_min\n",
    "\n",
    "get_shortest_ts()"
   ]
  },
  {
   "cell_type": "markdown",
   "metadata": {},
   "source": [
    "![](img/composite.PNG)"
   ]
  },
  {
   "cell_type": "code",
   "execution_count": null,
   "metadata": {},
   "outputs": [],
   "source": [
    "from scipy import signal\n",
    "from glob import glob\n",
    "import pandas as pd\n",
    "\n",
    "def resample_data():\n",
    "    size = 832\n",
    "    files = glob('Z:\\Descargas\\CSV_DATA\\*.csv')\n",
    "    for file in files:\n",
    "        df = pd.read_csv(file)\n",
    "        col_names = ('Flow rate', 'Pressure')\n",
    "        col_names = ('Flow rate', 'Zone9_Pressure', 'Zone16_Pressure', 'Zone17_Pressure', 'Zone24_Pressure')\n",
    "        cols = [col for col in df if col.endswith(col_names)]    \n",
    "        resampled_df = pd.DataFrame(signal.resample(df[cols], int(832)))\n",
    "        resampled_df['TOTAL_QUALITY'] = df['TOTAL_QUALITY']\n",
    "        resampled_df.to_csv(file.replace('CSV_DATA', 'CSV_DATA_RESAMPLED'))\n",
    "        \n",
    "resample_data()"
   ]
  },
  {
   "cell_type": "markdown",
   "metadata": {},
   "source": [
    "# FROM 3D to 2D"
   ]
  },
  {
   "cell_type": "code",
   "execution_count": null,
   "metadata": {},
   "outputs": [],
   "source": [
    "import os\n",
    "from glob import glob\n",
    "import pandas as pd\n",
    "         \n",
    "def convert_ts_into_2D():\n",
    "    files = glob('Z:\\Descargas\\CSV_DATA_RESAMPLED\\*.csv')\n",
    "    for file in files:\n",
    "        df = pd.read_csv(file)\n",
    "        df = df.loc[:, ~df.columns.str.contains('^Unnamed')].T\n",
    "        series = None\n",
    "        for index, row in df.iterrows():\n",
    "            if index == 'TOTAL_QUALITY':\n",
    "                series = pd.concat([series, pd.Series(int(row[0]), dtype=object)])               \n",
    "            else:\n",
    "                series = pd.concat([series, row])               \n",
    "         \n",
    "        #series = series.reset_index(drop=True)  \n",
    "        new_df = pd.DataFrame().append(pd.Series(list(series)), ignore_index=True)\n",
    "        # append series into csv\n",
    "        output_file = 'Z:\\\\Descargas\\\\resampled_2d_data.csv'\n",
    "        if not os.path.isfile(output_file):\n",
    "            new_df.to_csv(output_file)\n",
    "        else:\n",
    "            new_df.to_csv(output_file, mode='a', header=False)            \n",
    "        \n",
    "convert_ts_into_2D()"
   ]
  },
  {
   "cell_type": "markdown",
   "metadata": {},
   "source": [
    "### Scale the data"
   ]
  },
  {
   "cell_type": "code",
   "execution_count": null,
   "metadata": {},
   "outputs": [],
   "source": [
    "import numpy as np\n",
    "import pandas as pd\n",
    "from sklearn.preprocessing import StandardScaler\n",
    "\n",
    "df = pd.read_csv('Z:\\\\Descargas\\\\resampled_2d_data.csv')\n",
    "df = df.loc[:, ~df.columns.str.contains('^Unnamed')]\n",
    "X = df.iloc[:,:-1]\n",
    "y = df.iloc[:,-1]\n",
    "\n",
    "df = None\n",
    "#dfs = np.split(X, 29, axis=1) # 29 sensors, each sensor 832 columns\n",
    "dfs = np.split(X, 5, axis=1)"
   ]
  },
  {
   "cell_type": "code",
   "execution_count": null,
   "metadata": {},
   "outputs": [],
   "source": [
    "# http://citeseerx.ist.psu.edu/viewdoc/download?doi=10.1.1.862.1452&rep=rep1&type=pdf\n",
    "import math\n",
    "    \n",
    "def group_scalling(df):    \n",
    "    Uj = np.mean(df.values)    \n",
    "    Qj2 = np.mean(((df - Uj)**2).values)    \n",
    "    new_df = df.copy() \n",
    "    for col in df:\n",
    "        new_df[col] = (new_df[col] - np.mean(new_df[col])) / math.sqrt(Qj2)      \n",
    "    return new_df \n",
    "\n",
    "scalled_dfs = []\n",
    "for df in dfs: \n",
    "    scalled_df = group_scalling(df)   \n",
    "    scalled_dfs.append(scalled_df)\n",
    "dfs = None\n",
    "    \n",
    "len(scalled_dfs)"
   ]
  },
  {
   "cell_type": "code",
   "execution_count": null,
   "metadata": {},
   "outputs": [],
   "source": [
    "scalled_df = pd.concat(scalled_dfs, axis=1)\n",
    "scalled_df['target'] = y\n",
    "scalled_df"
   ]
  },
  {
   "cell_type": "code",
   "execution_count": null,
   "metadata": {},
   "outputs": [],
   "source": [
    "scalled_df.to_csv('Z:\\\\Descargas\\\\resampled_ts_group_scalled.csv')"
   ]
  },
  {
   "cell_type": "markdown",
   "metadata": {},
   "source": [
    "# DETECT ANOMALIES"
   ]
  },
  {
   "cell_type": "code",
   "execution_count": 1,
   "metadata": {},
   "outputs": [
    {
     "name": "stdout",
     "output_type": "stream",
     "text": [
      "Target 1 shape: (5055, 4161)\n",
      "Target 0 shape: (4959, 4161)\n"
     ]
    }
   ],
   "source": [
    "import pandas as pd\n",
    "from sklearn.preprocessing import StandardScaler\n",
    "\n",
    "df = pd.read_csv('Z:\\\\Descargas\\\\resampled_ts_group_scalled.csv')\n",
    "df = df.loc[:, ~df.columns.str.contains('^Unnamed')]\n",
    "X = df.iloc[:,:-1]\n",
    "y = df.iloc[:,-1]\n",
    "df = pd.DataFrame(X)\n",
    "df['target'] = y\n",
    "\n",
    "# Divide dataframe depending on target\n",
    "df_correct = df.loc[df['target'] == 1]\n",
    "df_incorrect = df.loc[df['target'] == 0]\n",
    "\n",
    "# Print each target shape\n",
    "print('Target 1 shape: ' + str(df_correct.shape))\n",
    "print('Target 0 shape: ' + str(df_incorrect.shape))"
   ]
  },
  {
   "cell_type": "code",
   "execution_count": 2,
   "metadata": {},
   "outputs": [],
   "source": [
    "from sklearn.utils import shuffle\n",
    "from sklearn.model_selection import train_test_split\n",
    "\n",
    "df_train, df_test_correct = train_test_split(df_correct, test_size=0.2, random_state=0)\n",
    "df_test_incorrect = df_incorrect\n",
    "\n",
    "X_train = df_train.iloc[:,:-1]\n",
    "X_test_correct = df_test_correct.iloc[:,:-1]\n",
    "X_test_incorrect = df_test_incorrect.iloc[:,:-1]"
   ]
  },
  {
   "cell_type": "markdown",
   "metadata": {},
   "source": [
    "### PCA"
   ]
  },
  {
   "cell_type": "code",
   "execution_count": 3,
   "metadata": {},
   "outputs": [
    {
     "name": "stdout",
     "output_type": "stream",
     "text": [
      "0.29364827120675585\n",
      "2 Principal Components\n"
     ]
    }
   ],
   "source": [
    "import numpy as np\n",
    "from sklearn.decomposition import PCA\n",
    "from models.model import ReconstructionErrorModel\n",
    "\n",
    "# Fit reconstruction error model with correct data\n",
    "model = ReconstructionErrorModel(X_train, model=PCA(n_components=0.9))\n",
    "\n",
    "# Calculate anomaly threshold with correct data\n",
    "train_errors = model.predict(X_train)\n",
    "threshold = np.mean(train_errors) + (np.std(train_errors) * 3)\n",
    "\n",
    "# Print principal components\n",
    "print(threshold)\n",
    "print('%i Principal Components' % len(model.get_model().explained_variance_))"
   ]
  },
  {
   "cell_type": "code",
   "execution_count": 4,
   "metadata": {},
   "outputs": [
    {
     "data": {
      "image/png": "[encoded data removed]",
      "text/plain": [
       "<Figure size 432x288 with 1 Axes>"
      ]
     },
     "metadata": {
      "needs_background": "light"
     },
     "output_type": "display_data"
    }
   ],
   "source": [
    "import matplotlib.pyplot as plt\n",
    "\n",
    "plt.hist(model.predict(X_train))\n",
    "plt.xlabel('MSE')\n",
    "plt.ylabel('Samples')\n",
    "plt.show()"
   ]
  },
  {
   "cell_type": "code",
   "execution_count": 5,
   "metadata": {},
   "outputs": [
    {
     "data": {
      "image/png": "[encoded data removed]",
      "text/plain": [
       "<Figure size 432x288 with 1 Axes>"
      ]
     },
     "metadata": {
      "needs_background": "light"
     },
     "output_type": "display_data"
    }
   ],
   "source": [
    "import matplotlib.pyplot as plt\n",
    "\n",
    "plt.hist(model.predict(X_test_correct))\n",
    "plt.xlabel('MSE')\n",
    "plt.ylabel('Samples')\n",
    "plt.show()"
   ]
  },
  {
   "cell_type": "code",
   "execution_count": 6,
   "metadata": {},
   "outputs": [
    {
     "data": {
      "image/png": "[encoded data removed]",
      "text/plain": [
       "<Figure size 432x288 with 1 Axes>"
      ]
     },
     "metadata": {
      "needs_background": "light"
     },
     "output_type": "display_data"
    }
   ],
   "source": [
    "import matplotlib.pyplot as plt\n",
    "\n",
    "plt.hist(model.predict(X_test_incorrect))\n",
    "plt.xlabel('MSE')\n",
    "plt.ylabel('Samples')\n",
    "plt.show()"
   ]
  },
  {
   "cell_type": "code",
   "execution_count": 13,
   "metadata": {},
   "outputs": [],
   "source": [
    "threshold = 0.08"
   ]
  },
  {
   "cell_type": "code",
   "execution_count": 14,
   "metadata": {},
   "outputs": [
    {
     "name": "stdout",
     "output_type": "stream",
     "text": [
      "Anomalies with train data 1414\n",
      "Anomalies with test correct data 357\n",
      "Anomalies with test incorrect data 3057\n"
     ]
    }
   ],
   "source": [
    "# Calculate how many train instances are detected as anomalies\n",
    "errors = model.predict(X_train)\n",
    "anomalies = np.where(errors > threshold)[0]\n",
    "print('Anomalies with train data %s' % str(len(anomalies)))\n",
    "\n",
    "# Calculate how many test correct instances are detected as anomalies\n",
    "errors = model.predict(X_test_correct)\n",
    "anomalies = np.where(errors > threshold)[0]\n",
    "print('Anomalies with test correct data %s' % str(len(anomalies)))\n",
    "\n",
    "# Calculate how many test incorrect instances are detected as anomalies\n",
    "errors = model.predict(X_test_incorrect)\n",
    "anomalies = np.where(errors > threshold)[0]\n",
    "print('Anomalies with test incorrect data %s' % str(len(anomalies)))"
   ]
  },
  {
   "cell_type": "code",
   "execution_count": null,
   "metadata": {},
   "outputs": [],
   "source": []
  }
 ],
 "metadata": {
  "file_extension": ".py",
  "kernelspec": {
   "display_name": "Python 3",
   "language": "python",
   "name": "python3"
  },
  "language_info": {
   "codemirror_mode": {
    "name": "ipython",
    "version": 3
   },
   "file_extension": ".py",
   "mimetype": "text/x-python",
   "name": "python",
   "nbconvert_exporter": "python",
   "pygments_lexer": "ipython3",
   "version": "3.8.2"
  },
  "mimetype": "text/x-python",
  "name": "python",
  "npconvert_exporter": "python",
  "pygments_lexer": "ipython3",
  "version": 3
 },
 "nbformat": 4,
 "nbformat_minor": 2
}
