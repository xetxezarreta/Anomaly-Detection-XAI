{
 "cells": [
  {
   "cell_type": "markdown",
   "metadata": {},
   "source": [
    "# OneClassSVM\n",
    "https://scikit-learn.org/stable/modules/generated/sklearn.svm.OneClassSVM.html"
   ]
  },
  {
   "cell_type": "code",
   "execution_count": 2,
   "metadata": {},
   "outputs": [
    {
     "name": "stdout",
     "output_type": "stream",
     "text": [
      "Target 1 shape: (5055, 39)\n",
      "Target 0 shape: (4959, 39)\n"
     ]
    }
   ],
   "source": [
    "import numpy as np\n",
    "import pandas as pd\n",
    "from sklearn.preprocessing import StandardScaler\n",
    "\n",
    "# Read and standarize the dataset\n",
    "df = pd.read_csv('data/selected_data.csv')\n",
    "df = df.loc[:, ~df.columns.str.contains('^Unnamed')]\n",
    "X = df.iloc[:,:-1]\n",
    "y = df.iloc[:,-1]\n",
    "df = pd.DataFrame(StandardScaler().fit_transform(X), columns=X.columns.values)\n",
    "df['target'] = y\n",
    "\n",
    "# Divide dataframe depending on target\n",
    "df_correct = df.loc[df['target'] == 1]\n",
    "df_incorrect = df.loc[df['target'] == 0]\n",
    "\n",
    "# Print each target shape\n",
    "print('Target 1 shape: ' + str(df_correct.shape))\n",
    "print('Target 0 shape: ' + str(df_incorrect.shape))"
   ]
  },
  {
   "cell_type": "code",
   "execution_count": 3,
   "metadata": {},
   "outputs": [],
   "source": [
    "from sklearn.utils import shuffle\n",
    "from sklearn.model_selection import train_test_split\n",
    "\n",
    "df_correct = shuffle(df_correct).reset_index(drop=True)\n",
    "df_train, df_test = train_test_split(df_correct, test_size=0.2, random_state=0)\n",
    "df_test = df_test.append(df_incorrect).reset_index(drop=True)\n",
    "\n",
    "X_train = df_train.iloc[:,:-1]\n",
    "y_train = df_train.iloc[:,-1]\n",
    "X_test = df_test.iloc[:,:-1]\n",
    "y_test = df_test.iloc[:,-1]"
   ]
  },
  {
   "cell_type": "markdown",
   "metadata": {},
   "source": [
    "### rbf"
   ]
  },
  {
   "cell_type": "code",
   "execution_count": 25,
   "metadata": {},
   "outputs": [
    {
     "name": "stdout",
     "output_type": "stream",
     "text": [
      "PRED TRAIN Counter({-1: 2024, 1: 2020})\n",
      "PRED TEST  Counter({-1: 4381, 1: 1589})\n"
     ]
    }
   ],
   "source": [
    "import collections\n",
    "from sklearn.svm import OneClassSVM\n",
    "\n",
    "rbf = OneClassSVM(kernel='rbf', gamma='scale').fit(X_train)\n",
    "pred_train = rbf.predict(X_train)\n",
    "pred_test = rbf.predict(X_test)\n",
    "\n",
    "print(\"PRED TRAIN\", collections.Counter(pred_train))\n",
    "print(\"PRED TEST \", collections.Counter(pred_test))"
   ]
  },
  {
   "cell_type": "markdown",
   "metadata": {},
   "source": [
    "### poly"
   ]
  },
  {
   "cell_type": "code",
   "execution_count": 23,
   "metadata": {},
   "outputs": [
    {
     "name": "stdout",
     "output_type": "stream",
     "text": [
      "PRED TRAIN Counter({1: 2023, -1: 2021})\n",
      "PRED TEST Counter({-1: 3756, 1: 2214})\n"
     ]
    }
   ],
   "source": [
    "import collections\n",
    "from sklearn.svm import OneClassSVM\n",
    "\n",
    "rbf = OneClassSVM(kernel='poly', gamma='scale').fit(X_train)\n",
    "pred_train = rbf.predict(X_train)\n",
    "pred_test = rbf.predict(X_test)\n",
    "\n",
    "print(\"PRED TRAIN\", collections.Counter(pred_train))\n",
    "print(\"PRED TEST \", collections.Counter(pred_test))"
   ]
  },
  {
   "cell_type": "markdown",
   "metadata": {},
   "source": [
    "### linear"
   ]
  },
  {
   "cell_type": "code",
   "execution_count": 24,
   "metadata": {},
   "outputs": [
    {
     "name": "stdout",
     "output_type": "stream",
     "text": [
      "PRED TRAIN Counter({-1: 2022, 1: 2022})\n",
      "PRED TEST Counter({-1: 4784, 1: 1186})\n"
     ]
    }
   ],
   "source": [
    "import collections\n",
    "from sklearn.svm import OneClassSVM\n",
    "\n",
    "rbf = OneClassSVM(kernel='linear', gamma='scale').fit(X_train)\n",
    "pred_train = rbf.predict(X_train)\n",
    "pred_test = rbf.predict(X_test)\n",
    "\n",
    "print(\"PRED TRAIN\", collections.Counter(pred_train))\n",
    "print(\"PRED TEST \", collections.Counter(pred_test))"
   ]
  },
  {
   "cell_type": "markdown",
   "metadata": {},
   "source": [
    "### sigmoid"
   ]
  },
  {
   "cell_type": "code",
   "execution_count": 26,
   "metadata": {},
   "outputs": [
    {
     "name": "stdout",
     "output_type": "stream",
     "text": [
      "PRED TRAIN Counter({-1: 2022, 1: 2022})\n",
      "PRED TEST  Counter({-1: 4625, 1: 1345})\n"
     ]
    }
   ],
   "source": [
    "import collections\n",
    "from sklearn.svm import OneClassSVM\n",
    "\n",
    "rbf = OneClassSVM(kernel='sigmoid', gamma='scale').fit(X_train)\n",
    "pred_train = rbf.predict(X_train)\n",
    "pred_test = rbf.predict(X_test)\n",
    "\n",
    "print(\"PRED TRAIN\", collections.Counter(pred_train))\n",
    "print(\"PRED TEST \", collections.Counter(pred_test))"
   ]
  }
 ],
 "metadata": {
  "kernelspec": {
   "display_name": "Python 3",
   "language": "python",
   "name": "python3"
  },
  "language_info": {
   "codemirror_mode": {
    "name": "ipython",
    "version": 3
   },
   "file_extension": ".py",
   "mimetype": "text/x-python",
   "name": "python",
   "nbconvert_exporter": "python",
   "pygments_lexer": "ipython3",
   "version": "3.8.2"
  }
 },
 "nbformat": 4,
 "nbformat_minor": 4
}
