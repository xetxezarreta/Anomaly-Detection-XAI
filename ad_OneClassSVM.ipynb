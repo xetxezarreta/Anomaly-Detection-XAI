{
 "cells": [
  {
   "cell_type": "markdown",
   "metadata": {},
   "source": [
    "# OneClassSVM\n",
    "https://scikit-learn.org/stable/modules/generated/sklearn.svm.OneClassSVM.html"
   ]
  },
  {
   "cell_type": "code",
   "execution_count": 1,
   "metadata": {},
   "outputs": [
    {
     "name": "stdout",
     "output_type": "stream",
     "text": [
      "Target 1 shape: (5049, 25)\n",
      "Target 0 shape: (4951, 25)\n"
     ]
    }
   ],
   "source": [
    "import numpy as np\n",
    "import pandas as pd\n",
    "from sklearn.preprocessing import StandardScaler\n",
    "\n",
    "# Read and standarize the dataset\n",
    "df = pd.read_csv('data/selected_data1.csv')\n",
    "df = df.loc[:, ~df.columns.str.contains('^Unnamed')]\n",
    "X = df.iloc[:,:-1]\n",
    "y = df.iloc[:,-1]\n",
    "df = pd.DataFrame(StandardScaler().fit_transform(X), columns=X.columns.values)\n",
    "df['target'] = y\n",
    "\n",
    "# Divide dataframe depending on target\n",
    "df_correct = df.loc[df['target'] == 1]\n",
    "df_incorrect = df.loc[df['target'] == 0]\n",
    "\n",
    "# Print each target shape\n",
    "print('Target 1 shape: ' + str(df_correct.shape))\n",
    "print('Target 0 shape: ' + str(df_incorrect.shape))"
   ]
  },
  {
   "cell_type": "code",
   "execution_count": 2,
   "metadata": {},
   "outputs": [],
   "source": [
    "from sklearn.model_selection import train_test_split\n",
    "\n",
    "df_train, df_test_correct = train_test_split(df_correct, test_size=0.2, random_state=0)\n",
    "df_test_incorrect = df_incorrect\n",
    "\n",
    "X_train = df_train.iloc[:,:-1]\n",
    "X_test_correct = df_test_correct.iloc[:,:-1]\n",
    "X_test_incorrect = df_test_incorrect.iloc[:,:-1]"
   ]
  },
  {
   "cell_type": "code",
   "execution_count": 3,
   "metadata": {},
   "outputs": [],
   "source": [
    "# -1 = outlier\n",
    "#  1 = inlier\n",
    "from sklearn.metrics import f1_score\n",
    "\n",
    "def get_f1_score(y_pred):\n",
    "    y_true = y_test.copy()\n",
    "    y_true[y_true == 0] = -1\n",
    "    print()\n",
    "    print(\"f1_score: \", f1_score(y_true, y_pred))    "
   ]
  },
  {
   "cell_type": "markdown",
   "metadata": {},
   "source": [
    "### rbf"
   ]
  },
  {
   "cell_type": "code",
   "execution_count": 8,
   "metadata": {},
   "outputs": [
    {
     "name": "stdout",
     "output_type": "stream",
     "text": [
      "PRED TRAIN Counter({1: 2023, -1: 2016})\n",
      "PRED CORRECT Counter({-1: 525, 1: 485})\n",
      "PRED INCORRECT  Counter({-1: 4148, 1: 803})\n"
     ]
    }
   ],
   "source": [
    "import collections\n",
    "from sklearn.svm import OneClassSVM\n",
    "\n",
    "rbf = OneClassSVM(kernel='rbf', gamma='scale').fit(X_train)\n",
    "pred_correct = rbf.predict(X_test_correct)\n",
    "pred_incorrect = rbf.predict(X_test_incorrect)\n",
    "pred_train = rbf.predict(X_train)\n",
    "\n",
    "print(\"PRED TRAIN\", collections.Counter(pred_train))\n",
    "print(\"PRED CORRECT\", collections.Counter(pred_correct))\n",
    "print(\"PRED INCORRECT \", collections.Counter(pred_incorrect))\n",
    "#get_f1_score(pred_test)"
   ]
  },
  {
   "cell_type": "markdown",
   "metadata": {},
   "source": [
    "### poly"
   ]
  },
  {
   "cell_type": "code",
   "execution_count": 9,
   "metadata": {},
   "outputs": [
    {
     "name": "stdout",
     "output_type": "stream",
     "text": [
      "PRED TRAIN Counter({-1: 2033, 1: 2006})\n",
      "PRED CORRECT Counter({-1: 538, 1: 472})\n",
      "PRED INCORRECT  Counter({-1: 3671, 1: 1280})\n"
     ]
    }
   ],
   "source": [
    "import collections\n",
    "from sklearn.svm import OneClassSVM\n",
    "\n",
    "rbf = OneClassSVM(kernel='poly', gamma='scale').fit(X_train)\n",
    "pred_correct = rbf.predict(X_test_correct)\n",
    "pred_incorrect = rbf.predict(X_test_incorrect)\n",
    "pred_train = rbf.predict(X_train)\n",
    "\n",
    "print(\"PRED TRAIN\", collections.Counter(pred_train))\n",
    "print(\"PRED CORRECT\", collections.Counter(pred_correct))\n",
    "print(\"PRED INCORRECT \", collections.Counter(pred_incorrect))\n",
    "#get_f1_score(pred_test)"
   ]
  },
  {
   "cell_type": "markdown",
   "metadata": {},
   "source": [
    "### linear"
   ]
  },
  {
   "cell_type": "code",
   "execution_count": 10,
   "metadata": {},
   "outputs": [
    {
     "name": "stdout",
     "output_type": "stream",
     "text": [
      "PRED TRAIN Counter({-1: 2020, 1: 2019})\n",
      "PRED CORRECT Counter({-1: 517, 1: 493})\n",
      "PRED INCORRECT  Counter({-1: 4194, 1: 757})\n"
     ]
    }
   ],
   "source": [
    "import collections\n",
    "from sklearn.svm import OneClassSVM\n",
    "\n",
    "rbf = OneClassSVM(kernel='linear', gamma='scale').fit(X_train)\n",
    "pred_correct = rbf.predict(X_test_correct)\n",
    "pred_incorrect = rbf.predict(X_test_incorrect)\n",
    "pred_train = rbf.predict(X_train)\n",
    "\n",
    "print(\"PRED TRAIN\", collections.Counter(pred_train))\n",
    "print(\"PRED CORRECT\", collections.Counter(pred_correct))\n",
    "print(\"PRED INCORRECT \", collections.Counter(pred_incorrect))\n",
    "#get_f1_score(pred_test)"
   ]
  },
  {
   "cell_type": "markdown",
   "metadata": {},
   "source": [
    "### sigmoid"
   ]
  },
  {
   "cell_type": "code",
   "execution_count": 11,
   "metadata": {},
   "outputs": [
    {
     "name": "stdout",
     "output_type": "stream",
     "text": [
      "PRED TRAIN Counter({1: 2021, -1: 2018})\n",
      "PRED CORRECT Counter({-1: 517, 1: 493})\n",
      "PRED INCORRECT  Counter({-1: 4156, 1: 795})\n"
     ]
    }
   ],
   "source": [
    "import collections\n",
    "from sklearn.svm import OneClassSVM\n",
    "\n",
    "rbf = OneClassSVM(kernel='sigmoid', gamma='scale').fit(X_train)\n",
    "pred_correct = rbf.predict(X_test_correct)\n",
    "pred_incorrect = rbf.predict(X_test_incorrect)\n",
    "pred_train = rbf.predict(X_train)\n",
    "\n",
    "print(\"PRED TRAIN\", collections.Counter(pred_train))\n",
    "print(\"PRED CORRECT\", collections.Counter(pred_correct))\n",
    "print(\"PRED INCORRECT \", collections.Counter(pred_incorrect))\n",
    "#get_f1_score(pred_test)"
   ]
  }
 ],
 "metadata": {
  "kernelspec": {
   "display_name": "Python 3",
   "language": "python",
   "name": "python3"
  },
  "language_info": {
   "codemirror_mode": {
    "name": "ipython",
    "version": 3
   },
   "file_extension": ".py",
   "mimetype": "text/x-python",
   "name": "python",
   "nbconvert_exporter": "python",
   "pygments_lexer": "ipython3",
   "version": "3.8.2"
  }
 },
 "nbformat": 4,
 "nbformat_minor": 4
}
