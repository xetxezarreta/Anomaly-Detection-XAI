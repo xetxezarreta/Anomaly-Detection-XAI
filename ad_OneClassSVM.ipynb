{
 "cells": [
  {
   "cell_type": "markdown",
   "metadata": {},
   "source": [
    "# OneClassSVM\n",
    "https://scikit-learn.org/stable/modules/generated/sklearn.svm.OneClassSVM.html"
   ]
  },
  {
   "cell_type": "code",
   "execution_count": 1,
   "metadata": {},
   "outputs": [
    {
     "name": "stdout",
     "output_type": "stream",
     "text": [
      "Target 1 shape: (5049, 25)\n",
      "Target 0 shape: (4951, 25)\n"
     ]
    }
   ],
   "source": [
    "import numpy as np\n",
    "import pandas as pd\n",
    "from sklearn.preprocessing import StandardScaler\n",
    "\n",
    "# Read and standarize the dataset\n",
    "df = pd.read_csv('data/selected_data1.csv')\n",
    "df = df.loc[:, ~df.columns.str.contains('^Unnamed')]\n",
    "X = df.iloc[:,:-1]\n",
    "y = df.iloc[:,-1]\n",
    "df = pd.DataFrame(StandardScaler().fit_transform(X), columns=X.columns.values)\n",
    "df['target'] = y\n",
    "\n",
    "# Divide dataframe depending on target\n",
    "df_correct = df.loc[df['target'] == 1]\n",
    "df_incorrect = df.loc[df['target'] == 0]\n",
    "\n",
    "# Print each target shape\n",
    "print('Target 1 shape: ' + str(df_correct.shape))\n",
    "print('Target 0 shape: ' + str(df_incorrect.shape))"
   ]
  },
  {
   "cell_type": "code",
   "execution_count": null,
   "metadata": {},
   "outputs": [],
   "source": []
  },
  {
   "cell_type": "code",
   "execution_count": 2,
   "metadata": {},
   "outputs": [],
   "source": [
    "from sklearn.model_selection import train_test_split\n",
    "\n",
    "df_train, df_test_correct = train_test_split(df_correct, test_size=0.2, random_state=0)\n",
    "df_test_incorrect = df_incorrect\n",
    "\n",
    "X_train = df_train.iloc[:,:-1]\n",
    "X_test_correct = df_test_correct.iloc[:,:-1]\n",
    "X_test_incorrect = df_test_incorrect.iloc[:,:-1]"
   ]
  },
  {
   "cell_type": "code",
   "execution_count": 3,
   "metadata": {},
   "outputs": [],
   "source": [
    "from sklearn.decomposition import PCA\n",
    "\n",
    "pca = PCA(n_components=0.97).fit(X_train)\n",
    "X_train = pca.transform(X_train)\n",
    "X_test_correct = pca.transform(X_test_correct)\n",
    "X_test_incorrect = pca.transform(X_test_incorrect)\n"
   ]
  },
  {
   "cell_type": "markdown",
   "metadata": {},
   "source": [
    "**OneClassSVM**\n",
    "\n",
    "SVMs are max-margin methods, i.e. they do not model a probability distribution. Here the idea is to find a function that is positive for regions with high density of points, and negative for small densities.\n",
    "\n",
    "**Relevant parameters for tunning**\n",
    "\n",
    "- **nu**: The proportion of outliers you expect to observe. The parameter nu is an upper bound on the fraction of margin errors and a lower bound of the fraction of support vectors relative to the total number of training examples. For example, if you set it to 0.05 you are guaranteed to find at most 5% of your training examples being misclassified (at the cost of a small margin, though) and at least 5% of your training examples being support vectors.\n",
    "    - decreasing nu can cause overfitting\n",
    "    - increasing nu can cause underfitting\n",
    "- **gamma**: Kernel coefficient for ‘rbf’, ‘poly’ and ‘sigmoid’(if ‘auto’, uses 1 / n_features)."
   ]
  },
  {
   "cell_type": "code",
   "execution_count": 4,
   "metadata": {},
   "outputs": [],
   "source": [
    "# -1 = outlier\n",
    "#  1 = inlier\n",
    "def MyOneClassSVM(kernel='rbf'):\n",
    "    import collections\n",
    "    from sklearn.svm import OneClassSVM\n",
    "    \n",
    "    model = OneClassSVM(kernel=kernel, gamma='auto', nu=0.2).fit(X_train)\n",
    "    pred_correct = model.predict(X_test_correct)\n",
    "    pred_incorrect = model.predict(X_test_incorrect)\n",
    "    pred_train = model.predict(X_train)\n",
    "\n",
    "    print(\"PRED TRAIN\", collections.Counter(pred_train))\n",
    "    print(\"PRED CORRECT\", collections.Counter(pred_correct))\n",
    "    print(\"PRED INCORRECT\", collections.Counter(pred_incorrect))"
   ]
  },
  {
   "cell_type": "markdown",
   "metadata": {},
   "source": [
    "### rbf"
   ]
  },
  {
   "cell_type": "code",
   "execution_count": 5,
   "metadata": {},
   "outputs": [
    {
     "name": "stdout",
     "output_type": "stream",
     "text": [
      "PRED TRAIN Counter({1: 3232, -1: 807})\n",
      "PRED CORRECT Counter({1: 801, -1: 209})\n",
      "PRED INCORRECT Counter({-1: 3122, 1: 1829})\n"
     ]
    }
   ],
   "source": [
    "MyOneClassSVM(kernel='rbf')"
   ]
  },
  {
   "cell_type": "markdown",
   "metadata": {},
   "source": [
    "### poly"
   ]
  },
  {
   "cell_type": "code",
   "execution_count": 6,
   "metadata": {},
   "outputs": [
    {
     "name": "stdout",
     "output_type": "stream",
     "text": [
      "PRED TRAIN Counter({1: 3199, -1: 840})\n",
      "PRED CORRECT Counter({1: 782, -1: 228})\n",
      "PRED INCORRECT Counter({1: 3378, -1: 1573})\n"
     ]
    }
   ],
   "source": [
    "MyOneClassSVM(kernel='poly')"
   ]
  },
  {
   "cell_type": "markdown",
   "metadata": {},
   "source": [
    "### linear"
   ]
  },
  {
   "cell_type": "code",
   "execution_count": 7,
   "metadata": {},
   "outputs": [
    {
     "name": "stdout",
     "output_type": "stream",
     "text": [
      "PRED TRAIN Counter({-1: 3499, 1: 540})\n",
      "PRED CORRECT Counter({-1: 873, 1: 137})\n",
      "PRED INCORRECT Counter({-1: 3613, 1: 1338})\n"
     ]
    }
   ],
   "source": [
    "MyOneClassSVM(kernel='linear')"
   ]
  },
  {
   "cell_type": "markdown",
   "metadata": {},
   "source": [
    "### sigmoid"
   ]
  },
  {
   "cell_type": "code",
   "execution_count": 8,
   "metadata": {},
   "outputs": [
    {
     "name": "stdout",
     "output_type": "stream",
     "text": [
      "PRED TRAIN Counter({1: 3229, -1: 810})\n",
      "PRED CORRECT Counter({1: 822, -1: 188})\n",
      "PRED INCORRECT Counter({1: 4147, -1: 804})\n"
     ]
    }
   ],
   "source": [
    "MyOneClassSVM(kernel='sigmoid')"
   ]
  }
 ],
 "metadata": {
  "kernelspec": {
   "display_name": "Python 3",
   "language": "python",
   "name": "python3"
  },
  "language_info": {
   "codemirror_mode": {
    "name": "ipython",
    "version": 3
   },
   "file_extension": ".py",
   "mimetype": "text/x-python",
   "name": "python",
   "nbconvert_exporter": "python",
   "pygments_lexer": "ipython3",
   "version": "3.8.2"
  }
 },
 "nbformat": 4,
 "nbformat_minor": 4
}
