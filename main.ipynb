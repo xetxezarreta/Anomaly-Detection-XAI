{
 "cells": [
  {
   "cell_type": "markdown",
   "metadata": {},
   "source": [
    "# Explainable Anomaly Detection"
   ]
  },
  {
   "cell_type": "markdown",
   "metadata": {},
   "source": [
    "Shapley Values of Reconstruction Errors of PCA for Explaining Anomaly Detection. "
   ]
  },
  {
   "cell_type": "markdown",
   "metadata": {},
   "source": [
    "### Read data"
   ]
  },
  {
   "cell_type": "code",
   "execution_count": 1,
   "metadata": {},
   "outputs": [],
   "source": [
    "import numpy as np\n",
    "import pandas as pd\n",
    "\n",
    "df = pd.read_csv('data/selected_data.csv')\n",
    "df = df.loc[:, ~df.columns.str.contains('^Unnamed')]"
   ]
  },
  {
   "cell_type": "code",
   "execution_count": 2,
   "metadata": {},
   "outputs": [
    {
     "data": {
      "text/plain": [
       "(10014, 39)"
      ]
     },
     "execution_count": 2,
     "metadata": {},
     "output_type": "execute_result"
    }
   ],
   "source": [
    "df.shape"
   ]
  },
  {
   "cell_type": "code",
   "execution_count": 3,
   "metadata": {},
   "outputs": [
    {
     "data": {
      "text/html": [
       "<div>\n",
       "<style scoped>\n",
       "    .dataframe tbody tr th:only-of-type {\n",
       "        vertical-align: middle;\n",
       "    }\n",
       "\n",
       "    .dataframe tbody tr th {\n",
       "        vertical-align: top;\n",
       "    }\n",
       "\n",
       "    .dataframe thead th {\n",
       "        text-align: right;\n",
       "    }\n",
       "</style>\n",
       "<table border=\"1\" class=\"dataframe\">\n",
       "  <thead>\n",
       "    <tr style=\"text-align: right;\">\n",
       "      <th></th>\n",
       "      <th>Flow rate_kurtosis</th>\n",
       "      <th>Zone3_Pressure_count_above_mean</th>\n",
       "      <th>Zone4_Pressure_count_above_mean</th>\n",
       "      <th>Zone5_Pressure_minimum</th>\n",
       "      <th>Zone6_Pressure_count_below_mean</th>\n",
       "      <th>Zone7_Pressure_minimum</th>\n",
       "      <th>Zone7_Pressure_count_below_mean</th>\n",
       "      <th>Zone7_Pressure_skewness</th>\n",
       "      <th>Zone9_Pressure_mean</th>\n",
       "      <th>Zone9_Pressure_kurtosis</th>\n",
       "      <th>...</th>\n",
       "      <th>Zone22_Pressure_count_below_mean</th>\n",
       "      <th>Zone23_Pressure_count_below_mean</th>\n",
       "      <th>Zone24_Pressure_kurtosis</th>\n",
       "      <th>Zone24_Pressure_count_below_mean</th>\n",
       "      <th>Zone24_Pressure_count_above_mean</th>\n",
       "      <th>Zone24_Pressure_skewness</th>\n",
       "      <th>Zone26_Pressure_count_above_mean</th>\n",
       "      <th>Zone29_Pressure_count_above_mean</th>\n",
       "      <th>Zone31_Pressure_count_below_mean</th>\n",
       "      <th>target</th>\n",
       "    </tr>\n",
       "  </thead>\n",
       "  <tbody>\n",
       "    <tr>\n",
       "      <th>0</th>\n",
       "      <td>-0.568486</td>\n",
       "      <td>330</td>\n",
       "      <td>364</td>\n",
       "      <td>-2038.22</td>\n",
       "      <td>543</td>\n",
       "      <td>-1057.16</td>\n",
       "      <td>618</td>\n",
       "      <td>1.588478</td>\n",
       "      <td>7272.842730</td>\n",
       "      <td>5.311404</td>\n",
       "      <td>...</td>\n",
       "      <td>440</td>\n",
       "      <td>560</td>\n",
       "      <td>5.167330</td>\n",
       "      <td>708</td>\n",
       "      <td>149</td>\n",
       "      <td>2.473288</td>\n",
       "      <td>247</td>\n",
       "      <td>376</td>\n",
       "      <td>619</td>\n",
       "      <td>1</td>\n",
       "    </tr>\n",
       "    <tr>\n",
       "      <th>1</th>\n",
       "      <td>-0.507464</td>\n",
       "      <td>336</td>\n",
       "      <td>371</td>\n",
       "      <td>-2038.22</td>\n",
       "      <td>541</td>\n",
       "      <td>-1040.04</td>\n",
       "      <td>624</td>\n",
       "      <td>1.623811</td>\n",
       "      <td>7826.292369</td>\n",
       "      <td>5.748566</td>\n",
       "      <td>...</td>\n",
       "      <td>443</td>\n",
       "      <td>557</td>\n",
       "      <td>5.368426</td>\n",
       "      <td>717</td>\n",
       "      <td>144</td>\n",
       "      <td>2.516752</td>\n",
       "      <td>247</td>\n",
       "      <td>378</td>\n",
       "      <td>623</td>\n",
       "      <td>0</td>\n",
       "    </tr>\n",
       "    <tr>\n",
       "      <th>2</th>\n",
       "      <td>-0.766407</td>\n",
       "      <td>331</td>\n",
       "      <td>388</td>\n",
       "      <td>-1964.60</td>\n",
       "      <td>572</td>\n",
       "      <td>-1006.84</td>\n",
       "      <td>658</td>\n",
       "      <td>1.841518</td>\n",
       "      <td>7669.570471</td>\n",
       "      <td>7.946121</td>\n",
       "      <td>...</td>\n",
       "      <td>504</td>\n",
       "      <td>595</td>\n",
       "      <td>11.189778</td>\n",
       "      <td>749</td>\n",
       "      <td>143</td>\n",
       "      <td>3.445868</td>\n",
       "      <td>288</td>\n",
       "      <td>424</td>\n",
       "      <td>644</td>\n",
       "      <td>1</td>\n",
       "    </tr>\n",
       "    <tr>\n",
       "      <th>3</th>\n",
       "      <td>-0.712796</td>\n",
       "      <td>378</td>\n",
       "      <td>364</td>\n",
       "      <td>-2038.22</td>\n",
       "      <td>582</td>\n",
       "      <td>-1032.48</td>\n",
       "      <td>625</td>\n",
       "      <td>1.680860</td>\n",
       "      <td>9924.194251</td>\n",
       "      <td>2.121459</td>\n",
       "      <td>...</td>\n",
       "      <td>486</td>\n",
       "      <td>590</td>\n",
       "      <td>17.256859</td>\n",
       "      <td>721</td>\n",
       "      <td>182</td>\n",
       "      <td>3.720973</td>\n",
       "      <td>272</td>\n",
       "      <td>370</td>\n",
       "      <td>625</td>\n",
       "      <td>0</td>\n",
       "    </tr>\n",
       "    <tr>\n",
       "      <th>4</th>\n",
       "      <td>-0.504741</td>\n",
       "      <td>334</td>\n",
       "      <td>330</td>\n",
       "      <td>-1898.18</td>\n",
       "      <td>604</td>\n",
       "      <td>-1380.96</td>\n",
       "      <td>674</td>\n",
       "      <td>2.272728</td>\n",
       "      <td>3717.180958</td>\n",
       "      <td>9.245656</td>\n",
       "      <td>...</td>\n",
       "      <td>549</td>\n",
       "      <td>609</td>\n",
       "      <td>7.990006</td>\n",
       "      <td>722</td>\n",
       "      <td>217</td>\n",
       "      <td>2.840404</td>\n",
       "      <td>314</td>\n",
       "      <td>408</td>\n",
       "      <td>654</td>\n",
       "      <td>0</td>\n",
       "    </tr>\n",
       "  </tbody>\n",
       "</table>\n",
       "<p>5 rows × 39 columns</p>\n",
       "</div>"
      ],
      "text/plain": [
       "   Flow rate_kurtosis  Zone3_Pressure_count_above_mean  \\\n",
       "0           -0.568486                              330   \n",
       "1           -0.507464                              336   \n",
       "2           -0.766407                              331   \n",
       "3           -0.712796                              378   \n",
       "4           -0.504741                              334   \n",
       "\n",
       "   Zone4_Pressure_count_above_mean  Zone5_Pressure_minimum  \\\n",
       "0                              364                -2038.22   \n",
       "1                              371                -2038.22   \n",
       "2                              388                -1964.60   \n",
       "3                              364                -2038.22   \n",
       "4                              330                -1898.18   \n",
       "\n",
       "   Zone6_Pressure_count_below_mean  Zone7_Pressure_minimum  \\\n",
       "0                              543                -1057.16   \n",
       "1                              541                -1040.04   \n",
       "2                              572                -1006.84   \n",
       "3                              582                -1032.48   \n",
       "4                              604                -1380.96   \n",
       "\n",
       "   Zone7_Pressure_count_below_mean  Zone7_Pressure_skewness  \\\n",
       "0                              618                 1.588478   \n",
       "1                              624                 1.623811   \n",
       "2                              658                 1.841518   \n",
       "3                              625                 1.680860   \n",
       "4                              674                 2.272728   \n",
       "\n",
       "   Zone9_Pressure_mean  Zone9_Pressure_kurtosis  ...  \\\n",
       "0          7272.842730                 5.311404  ...   \n",
       "1          7826.292369                 5.748566  ...   \n",
       "2          7669.570471                 7.946121  ...   \n",
       "3          9924.194251                 2.121459  ...   \n",
       "4          3717.180958                 9.245656  ...   \n",
       "\n",
       "   Zone22_Pressure_count_below_mean  Zone23_Pressure_count_below_mean  \\\n",
       "0                               440                               560   \n",
       "1                               443                               557   \n",
       "2                               504                               595   \n",
       "3                               486                               590   \n",
       "4                               549                               609   \n",
       "\n",
       "   Zone24_Pressure_kurtosis  Zone24_Pressure_count_below_mean  \\\n",
       "0                  5.167330                               708   \n",
       "1                  5.368426                               717   \n",
       "2                 11.189778                               749   \n",
       "3                 17.256859                               721   \n",
       "4                  7.990006                               722   \n",
       "\n",
       "   Zone24_Pressure_count_above_mean  Zone24_Pressure_skewness  \\\n",
       "0                               149                  2.473288   \n",
       "1                               144                  2.516752   \n",
       "2                               143                  3.445868   \n",
       "3                               182                  3.720973   \n",
       "4                               217                  2.840404   \n",
       "\n",
       "   Zone26_Pressure_count_above_mean  Zone29_Pressure_count_above_mean  \\\n",
       "0                               247                               376   \n",
       "1                               247                               378   \n",
       "2                               288                               424   \n",
       "3                               272                               370   \n",
       "4                               314                               408   \n",
       "\n",
       "   Zone31_Pressure_count_below_mean  target  \n",
       "0                               619       1  \n",
       "1                               623       0  \n",
       "2                               644       1  \n",
       "3                               625       0  \n",
       "4                               654       0  \n",
       "\n",
       "[5 rows x 39 columns]"
      ]
     },
     "execution_count": 3,
     "metadata": {},
     "output_type": "execute_result"
    }
   ],
   "source": [
    "df.head()"
   ]
  },
  {
   "cell_type": "code",
   "execution_count": 4,
   "metadata": {},
   "outputs": [],
   "source": [
    "X = df.iloc[:,:-1]\n",
    "y = df.iloc[:,-1]"
   ]
  },
  {
   "cell_type": "markdown",
   "metadata": {},
   "source": [
    "### Utils"
   ]
  },
  {
   "cell_type": "code",
   "execution_count": 5,
   "metadata": {},
   "outputs": [],
   "source": [
    "seed = 0"
   ]
  },
  {
   "cell_type": "code",
   "execution_count": 6,
   "metadata": {},
   "outputs": [],
   "source": [
    "from xgboost import XGBClassifier\n",
    "from sklearn.model_selection import train_test_split\n",
    "from sklearn.metrics import classification_report\n",
    "\n",
    "xgb_model = XGBClassifier(max_depth=10, n_estimators=100, random_state=seed)\n",
    "\n",
    "def print_classification_report(X, y):   \n",
    "    X_train, X_test, y_train, y_test = train_test_split(X, y, test_size=0.33, random_state=seed, stratify=y)\n",
    "    xgb_model.fit(X_train, y_train)\n",
    "    y_pred = xgb_model.predict(X_test)\n",
    "    print(classification_report(y_test, y_pred))"
   ]
  },
  {
   "cell_type": "code",
   "execution_count": 7,
   "metadata": {},
   "outputs": [
    {
     "name": "stdout",
     "output_type": "stream",
     "text": [
      "              precision    recall  f1-score   support\n",
      "\n",
      "           0       0.81      0.74      0.77      1637\n",
      "           1       0.77      0.83      0.80      1668\n",
      "\n",
      "    accuracy                           0.79      3305\n",
      "   macro avg       0.79      0.79      0.78      3305\n",
      "weighted avg       0.79      0.79      0.79      3305\n",
      "\n"
     ]
    }
   ],
   "source": [
    "print_classification_report(X, y)"
   ]
  },
  {
   "cell_type": "markdown",
   "metadata": {},
   "source": [
    "### Anomaly/Outlier detection with PCA reconstruction"
   ]
  },
  {
   "cell_type": "markdown",
   "metadata": {},
   "source": [
    "Standarize and split the data on train/test."
   ]
  },
  {
   "cell_type": "code",
   "execution_count": 8,
   "metadata": {},
   "outputs": [],
   "source": [
    "from sklearn.model_selection import train_test_split\n",
    "from sklearn.preprocessing import StandardScaler # Standardize features by removing the mean and scaling to unit variance\n",
    "\n",
    "X_standar = pd.DataFrame(StandardScaler().fit_transform(X))\n",
    "X_train, X_test, y_train, y_test = train_test_split(X_standar, y, test_size=0.33, random_state=seed, stratify=y)"
   ]
  },
  {
   "cell_type": "markdown",
   "metadata": {},
   "source": [
    "Fit pca"
   ]
  },
  {
   "cell_type": "code",
   "execution_count": 9,
   "metadata": {},
   "outputs": [
    {
     "name": "stdout",
     "output_type": "stream",
     "text": [
      "[255.3358511  213.28110997 159.60934738 137.27479854 116.51328414\n",
      " 100.21405881  92.41160149  79.25169467  73.5188137   66.44947167\n",
      "  62.29403158  59.55622465  56.68484567  54.75847869  47.35316792\n",
      "  45.90020303  42.8918319   41.83955728]\n"
     ]
    }
   ],
   "source": [
    "from sklearn.decomposition import PCA\n",
    "\n",
    "# Fit PCA\n",
    "pca = PCA(n_components=0.95).fit(X_train)\n",
    "\n",
    "print(pca.singular_values_)  "
   ]
  },
  {
   "cell_type": "markdown",
   "metadata": {},
   "source": [
    "Transform and reconstruct the data."
   ]
  },
  {
   "cell_type": "code",
   "execution_count": 10,
   "metadata": {},
   "outputs": [],
   "source": [
    "# Transform\n",
    "X_train_transf = pca.fit_transform(X_train)\n",
    "X_test_transf = pca.transform(X_test)\n",
    "\n",
    "# Reconstruct\n",
    "X_train_reconstr = pca.inverse_transform(X_train_transf)\n",
    "X_test_reconstr = pca.inverse_transform(X_test_transf)"
   ]
  },
  {
   "cell_type": "markdown",
   "metadata": {},
   "source": [
    "Calculate the reconstruction error."
   ]
  },
  {
   "cell_type": "code",
   "execution_count": 11,
   "metadata": {},
   "outputs": [],
   "source": [
    "# Reconstruccion error(MAE)\n",
    "error_train = X_train - X_train_reconstr\n",
    "error_test = X_test - X_test_reconstr"
   ]
  },
  {
   "cell_type": "code",
   "execution_count": 12,
   "metadata": {},
   "outputs": [],
   "source": [
    "train_mean_error = error_train.abs().mean()\n",
    "test_mean_error = error_test.abs().mean()\n",
    "\n",
    "#train_mean_error = (error_train**2).mean()\n",
    "#test_mean_error = (error_test**2).mean()"
   ]
  },
  {
   "cell_type": "code",
   "execution_count": 14,
   "metadata": {},
   "outputs": [
    {
     "data": {
      "image/png": "[encoded data removed]",
      "text/plain": [
       "<Figure size 2160x720 with 1 Axes>"
      ]
     },
     "metadata": {},
     "output_type": "display_data"
    }
   ],
   "source": [
    "# Plot each feature reconstruction error.\n",
    "import seaborn as sns\n",
    "\n",
    "sns.set(style=\"whitegrid\")\n",
    "sns.set(rc={'figure.figsize':(30,10)})\n",
    "\n",
    "ax = sns.barplot(x=train_mean_error.index, y=train_mean_error.values)\n",
    "ax = ax.set_xticklabels(train_mean_error.index, rotation=0, fontsize=25)"
   ]
  },
  {
   "cell_type": "code",
   "execution_count": null,
   "metadata": {},
   "outputs": [],
   "source": []
  }
 ],
 "metadata": {
  "file_extension": ".py",
  "kernelspec": {
   "display_name": "Python 3",
   "language": "python",
   "name": "python3"
  },
  "language_info": {
   "codemirror_mode": {
    "name": "ipython",
    "version": 3
   },
   "file_extension": ".py",
   "mimetype": "text/x-python",
   "name": "python",
   "nbconvert_exporter": "python",
   "pygments_lexer": "ipython3",
   "version": "3.7.5"
  },
  "mimetype": "text/x-python",
  "name": "python",
  "npconvert_exporter": "python",
  "pygments_lexer": "ipython3",
  "version": 3
 },
 "nbformat": 4,
 "nbformat_minor": 2
}
