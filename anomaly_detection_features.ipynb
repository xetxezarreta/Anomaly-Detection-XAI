{
 "cells": [
  {
   "cell_type": "code",
   "execution_count": 10,
   "metadata": {},
   "outputs": [],
   "source": [
    "import numpy as np\n",
    "import pandas as pd\n",
    "from sklearn.preprocessing import StandardScaler\n",
    "\n",
    "# Read and standarize the dataset\n",
    "df = pd.read_csv('data/selected_data.csv')\n",
    "df = df.loc[:, ~df.columns.str.contains('^Unnamed')]\n",
    "X = df.iloc[:,:-1]\n",
    "y = df.iloc[:,-1]\n",
    "X = pd.DataFrame(StandardScaler().fit_transform(X), columns=X.columns.values)"
   ]
  },
  {
   "cell_type": "code",
   "execution_count": 17,
   "metadata": {},
   "outputs": [],
   "source": [
    "def hotellingsT2(components):\n",
    "    x = components.transpose()    \n",
    "    mean_vec = np.mean(components, axis=0)\n",
    "    cov = (components - mean_vec).T.dot((components - mean_vec)) / (components.shape[0]-1)\n",
    "    w = np.linalg.solve(cov, x)\n",
    "    t2 = (x * w).sum(axis=0)\n",
    "    return t2"
   ]
  },
  {
   "cell_type": "code",
   "execution_count": 19,
   "metadata": {},
   "outputs": [
    {
     "data": {
      "text/plain": [
       "10014"
      ]
     },
     "execution_count": 19,
     "metadata": {},
     "output_type": "execute_result"
    }
   ],
   "source": [
    "from sklearn.decomposition import PCA\n",
    "\n",
    "pca = PCA(n_components=2).fit(X)\n",
    "\n",
    "components = pca.fit_transform(X)\n",
    "\n",
    "len(hotellingsT2(components))"
   ]
  },
  {
   "cell_type": "code",
   "execution_count": 33,
   "metadata": {},
   "outputs": [
    {
     "data": {
      "text/plain": [
       "array([5.68034084, 3.07583704, 6.00023279, 2.61976323, 3.36813945,\n",
       "       0.56679667, 3.48184073, 3.9793979 , 2.60858624, 7.48175633,\n",
       "       4.18302223, 2.23271872, 2.72156782])"
      ]
     },
     "execution_count": 33,
     "metadata": {},
     "output_type": "execute_result"
    }
   ],
   "source": [
    "hald_text = \"\"\"Y       X1      X2      X3      X4\n",
    "    78.5    7       26      6       60\n",
    "    74.3    1       29      15      52\n",
    "    104.3   11      56      8       20\n",
    "    87.6    11      31      8       47\n",
    "    95.9    7       52      6       33\n",
    "    109.2   11      55      9       22\n",
    "    102.7   3       71      17      6\n",
    "    72.5    1       31      22      44\n",
    "    93.1    2       54      18      22\n",
    "    115.9   21      47      4       26\n",
    "    83.8    1       40      23      34\n",
    "    113.3   11      66      9       12\n",
    "    109.4   10      68      8       12\n",
    "    \"\"\"\n",
    "\n",
    "hald = np.loadtxt(hald_text.splitlines(), skiprows=1)\n",
    "ingredients = hald[:, 1:]\n",
    "\n",
    "pca = PCA().fit_transform(ingredients)\n",
    "hotellingsT2(pca)"
   ]
  }
 ],
 "metadata": {
  "file_extension": ".py",
  "kernelspec": {
   "display_name": "Python 3",
   "language": "python",
   "name": "python3"
  },
  "language_info": {
   "codemirror_mode": {
    "name": "ipython",
    "version": 3
   },
   "file_extension": ".py",
   "mimetype": "text/x-python",
   "name": "python",
   "nbconvert_exporter": "python",
   "pygments_lexer": "ipython3",
   "version": "3.8.1"
  },
  "mimetype": "text/x-python",
  "name": "python",
  "npconvert_exporter": "python",
  "pygments_lexer": "ipython3",
  "version": 3
 },
 "nbformat": 4,
 "nbformat_minor": 4
}
