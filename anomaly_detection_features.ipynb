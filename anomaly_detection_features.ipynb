{
 "cells": [
  {
   "cell_type": "code",
   "execution_count": 12,
   "metadata": {},
   "outputs": [
    {
     "name": "stdout",
     "output_type": "stream",
     "text": [
      "Target 1 shape: (5055, 39)\n",
      "Target 0 shape: (4959, 39)\n"
     ]
    }
   ],
   "source": [
    "import numpy as np\n",
    "import pandas as pd\n",
    "from sklearn.preprocessing import StandardScaler\n",
    "\n",
    "# Read and standarize the dataset\n",
    "df = pd.read_csv('data/selected_data.csv')\n",
    "df = df.loc[:, ~df.columns.str.contains('^Unnamed')]\n",
    "X = df.iloc[:,:-1]\n",
    "y = df.iloc[:,-1]\n",
    "df = pd.DataFrame(StandardScaler().fit_transform(X), columns=X.columns.values)\n",
    "df['target'] = y\n",
    "\n",
    "# Divide dataframe depending on target\n",
    "df_correct = df.loc[df['target'] == 1]\n",
    "X_correct = df_correct.iloc[:,:-1].reset_index(drop=True)\n",
    "y_correct = df_correct.iloc[:,-1].reset_index(drop=True)\n",
    "\n",
    "df_incorrect = df.loc[df['target'] == 0]\n",
    "X_incorrect = df_incorrect.iloc[:,:-1].reset_index(drop=True)\n",
    "y_incorrect = df_incorrect.iloc[:,-1].reset_index(drop=True)\n",
    "\n",
    "# Print each target shape\n",
    "print('Target 1 shape: ' + str(df_correct.shape))\n",
    "print('Target 0 shape: ' + str(df_incorrect.shape))"
   ]
  },
  {
   "cell_type": "markdown",
   "metadata": {},
   "source": [
    "# Hotelling T2"
   ]
  },
  {
   "cell_type": "code",
   "execution_count": 13,
   "metadata": {},
   "outputs": [],
   "source": [
    "from sklearn.decomposition import PCA\n",
    "\n",
    "pca = PCA(n_components=0.95).fit(X_correct)"
   ]
  },
  {
   "cell_type": "code",
   "execution_count": 10,
   "metadata": {},
   "outputs": [
    {
     "data": {
      "text/plain": [
       "array([[-2.13662518,  3.94999149, -0.50473506, ..., -0.3792072 ,\n",
       "        -0.81353357, -0.15990551],\n",
       "       [-1.4098848 ,  2.79523676, -1.26659502, ...,  0.07607784,\n",
       "        -0.30334081,  0.28243291],\n",
       "       [ 0.87248057,  1.82859724, -0.57051832, ...,  0.35496944,\n",
       "         0.31719298,  0.18695607],\n",
       "       ...,\n",
       "       [ 2.24717115, -3.27778642, -1.48933218, ..., -0.20526191,\n",
       "        -0.10175516, -0.30530651],\n",
       "       [ 3.03738643, -3.74891559, -3.4191518 , ..., -0.52477756,\n",
       "        -0.17655748, -1.16630285],\n",
       "       [ 0.9603708 , -1.60159801,  0.40839441, ...,  0.1470431 ,\n",
       "         0.06021377, -0.37712377]])"
      ]
     },
     "execution_count": 10,
     "metadata": {},
     "output_type": "execute_result"
    }
   ],
   "source": [
    "pca.transform(X_incorrect)"
   ]
  },
  {
   "cell_type": "code",
   "execution_count": 1,
   "metadata": {},
   "outputs": [],
   "source": [
    "from models.hotelling.t2 import hotelling_tsquared\n",
    "\n"
   ]
  },
  {
   "cell_type": "code",
   "execution_count": null,
   "metadata": {},
   "outputs": [],
   "source": []
  },
  {
   "cell_type": "code",
   "execution_count": 18,
   "metadata": {},
   "outputs": [
    {
     "data": {
      "image/png": "[encoded data removed]",
      "text/plain": [
       "<Figure size 432x288 with 1 Axes>"
      ]
     },
     "metadata": {
      "needs_background": "light"
     },
     "output_type": "display_data"
    }
   ],
   "source": [
    "import matplotlib.pyplot as plt\n",
    "import scipy, random\n",
    "\n",
    "dataProject = pca.transform(X_incorrect)\n",
    "\n",
    "#Calculate ellipse bounds and plot with scores\n",
    "theta = np.concatenate((np.linspace(-np.pi, np.pi, 50), np.linspace(np.pi, -np.pi, 50)))\n",
    "circle = np.array((np.cos(theta), np.sin(theta)))\n",
    "sigma = np.cov(np.array((dataProject[:, 0], dataProject[:, 1])))\n",
    "ed = np.sqrt(scipy.stats.chi2.ppf(0.95, 2))\n",
    "ell = np.transpose(circle).dot(np.linalg.cholesky(sigma) * ed)\n",
    "a, b = np.max(ell[: ,0]), np.max(ell[: ,1]) #95% ellipse bounds\n",
    "t = np.linspace(0, 2 * np.pi, 100)\n",
    "\n",
    "plt.scatter(dataProject[:, 0], dataProject[:, 1])\n",
    "plt.plot(a * np.cos(t), b * np.sin(t), color = 'red')\n",
    "plt.grid(color = 'lightgray', linestyle = '--')\n",
    "plt.show()"
   ]
  },
  {
   "cell_type": "code",
   "execution_count": null,
   "metadata": {},
   "outputs": [],
   "source": []
  }
 ],
 "metadata": {
  "file_extension": ".py",
  "kernelspec": {
   "display_name": "Python 3",
   "language": "python",
   "name": "python3"
  },
  "language_info": {
   "codemirror_mode": {
    "name": "ipython",
    "version": 3
   },
   "file_extension": ".py",
   "mimetype": "text/x-python",
   "name": "python",
   "nbconvert_exporter": "python",
   "pygments_lexer": "ipython3",
   "version": "3.8.1"
  },
  "mimetype": "text/x-python",
  "name": "python",
  "npconvert_exporter": "python",
  "pygments_lexer": "ipython3",
  "version": 3
 },
 "nbformat": 4,
 "nbformat_minor": 4
}
