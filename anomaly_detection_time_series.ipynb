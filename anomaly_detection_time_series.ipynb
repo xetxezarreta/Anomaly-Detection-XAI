{
 "cells": [
  {
   "cell_type": "markdown",
   "metadata": {},
   "source": [
    "## Resample Time-Series"
   ]
  },
  {
   "cell_type": "code",
   "execution_count": 72,
   "metadata": {},
   "outputs": [
    {
     "name": "stdout",
     "output_type": "stream",
     "text": [
      "Z:\\Descargas\\CSV_DATA\\0.csv 857\n",
      "Z:\\Descargas\\CSV_DATA\\1015.csv 832\n"
     ]
    },
    {
     "data": {
      "text/plain": [
       "(832, 'Z:\\\\Descargas\\\\CSV_DATA\\\\1015.csv')"
      ]
     },
     "execution_count": 72,
     "metadata": {},
     "output_type": "execute_result"
    }
   ],
   "source": [
    "import pandas as pd\n",
    "from glob import glob\n",
    "\n",
    "def get_shortest_ts():\n",
    "    files = glob('Z:\\Descargas\\CSV_DATA\\*.csv')\n",
    "    min_samples = 999999999999\n",
    "    file_min = None\n",
    "    for file in files:\n",
    "        df = pd.read_csv(file)\n",
    "        row_count = df.shape[0]\n",
    "        if row_count < min_samples:\n",
    "            min_samples = row_count\n",
    "            file_min = file\n",
    "            print(file, str(row_count))\n",
    "            if min_samples == 832:\n",
    "                break\n",
    "    return min_samples, file_min\n",
    "\n",
    "get_shortest_ts()"
   ]
  },
  {
   "cell_type": "code",
   "execution_count": 86,
   "metadata": {},
   "outputs": [],
   "source": [
    "from scipy import signal\n",
    "\n",
    "def resample_data():\n",
    "    size = 832\n",
    "    files = glob('Z:\\Descargas\\CSV_DATA\\*.csv')\n",
    "    for file in files:\n",
    "        df = pd.read_csv(file)\n",
    "        cols = [col for col in df if col.endswith(('Flow rate', 'Pressure'))]     \n",
    "        resampled_df = pd.DataFrame()\n",
    "        for col in cols:\n",
    "            resampled_df[col] = signal.resample(df[col], 832)    \n",
    "        resampled_df['TOTAL_QUALITY'] = df['TOTAL_QUALITY']\n",
    "        resampled_df.to_csv(file.replace('CSV_DATA', 'CSV_DATA_RESAMPLED'))\n",
    "        \n",
    "resample_data()"
   ]
  },
  {
   "cell_type": "code",
   "execution_count": 92,
   "metadata": {},
   "outputs": [
    {
     "data": {
      "image/png": "[encoded data removed]",
      "text/plain": [
       "<Figure size 432x288 with 1 Axes>"
      ]
     },
     "metadata": {
      "needs_background": "light"
     },
     "output_type": "display_data"
    }
   ],
   "source": [
    "# shortest experiment = (832, 'Z:\\\\Descargas\\\\CSV_DATA\\\\1015.csv')\n",
    "\n",
    "df1 = pd.read_csv('Z:\\\\Descargas\\\\CSV_DATA\\\\0.csv')\n",
    "df2 = pd.read_csv('Z:\\\\Descargas\\\\CSV_DATA_RESAMPLED\\\\0.csv')\n",
    "X_default = df1['Time']\n",
    "y_default = df1['Zone2_Pressure']\n",
    "X_resampled = signal.resample(X_default, 832)\n",
    "y_resampled = df2['Zone2_Pressure']\n",
    "\n",
    "import matplotlib.pyplot as plt\n",
    "plt.plot(X_default, y_default, label='Original signal')\n",
    "plt.plot(X_resampled, y_resampled, 'ko', label='Resampled signal')\n",
    "plt.legend(loc='best')\n",
    "plt.show()"
   ]
  }
 ],
 "metadata": {
  "file_extension": ".py",
  "kernelspec": {
   "display_name": "Python 3",
   "language": "python",
   "name": "python3"
  },
  "language_info": {
   "codemirror_mode": {
    "name": "ipython",
    "version": 3
   },
   "file_extension": ".py",
   "mimetype": "text/x-python",
   "name": "python",
   "nbconvert_exporter": "python",
   "pygments_lexer": "ipython3",
   "version": "3.8.2"
  },
  "mimetype": "text/x-python",
  "name": "python",
  "npconvert_exporter": "python",
  "pygments_lexer": "ipython3",
  "version": 3
 },
 "nbformat": 4,
 "nbformat_minor": 2
}
