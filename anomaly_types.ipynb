{
 "cells": [
  {
   "cell_type": "code",
   "execution_count": 1,
   "metadata": {},
   "outputs": [
    {
     "name": "stdout",
     "output_type": "stream",
     "text": [
      "Target 1 shape: (5055, 38)\n",
      "Target 0 shape: (4959, 38)\n"
     ]
    }
   ],
   "source": [
    "# Read dataset\n",
    "import numpy as np\n",
    "import pandas as pd\n",
    "from sklearn.preprocessing import StandardScaler\n",
    "\n",
    "df = pd.read_csv('data/selected_data.csv')\n",
    "df = df.loc[:, ~df.columns.str.contains('^Unnamed')]\n",
    "    \n",
    "df_correct = df.loc[df['target'] == 1].iloc[:,:-1]\n",
    "df_incorrect = df.loc[df['target'] == 0].iloc[:,:-1]\n",
    "\n",
    "print('Target 1 shape: ' + str(df_correct.shape))\n",
    "print('Target 0 shape: ' + str(df_incorrect.shape))"
   ]
  },
  {
   "cell_type": "code",
   "execution_count": 2,
   "metadata": {},
   "outputs": [],
   "source": [
    "# Standarize the data\n",
    "from sklearn.preprocessing import StandardScaler\n",
    "\n",
    "cols = df_correct.columns.values\n",
    "df_correct = pd.DataFrame(StandardScaler().fit_transform(df_correct), columns=cols)\n",
    "df_incorrect = pd.DataFrame(StandardScaler().fit_transform(df_incorrect), columns=cols)"
   ]
  },
  {
   "cell_type": "markdown",
   "metadata": {},
   "source": [
    "# PCA"
   ]
  },
  {
   "cell_type": "code",
   "execution_count": 28,
   "metadata": {},
   "outputs": [],
   "source": [
    "from sklearn.decomposition import PCA\n",
    "from models.model import ReconstructionErrorModel\n",
    "\n",
    "# Fit reconstruction error model with correct data\n",
    "model = ReconstructionErrorModel(df_correct, model=PCA(n_components=0.9))\n",
    "\n",
    "# Calculate anomaly threshold with correct data\n",
    "threshold = np.std(model.predict(df_correct)) * 3"
   ]
  },
  {
   "cell_type": "code",
   "execution_count": 29,
   "metadata": {},
   "outputs": [
    {
     "data": {
      "text/plain": [
       "array([8.91526709, 6.41327153, 5.34798285, 3.98530838, 2.31712789,\n",
       "       1.83134368, 1.54701764, 1.00408688, 0.82917674, 0.73210704,\n",
       "       0.66840828, 0.55335279, 0.49974517])"
      ]
     },
     "execution_count": 29,
     "metadata": {},
     "output_type": "execute_result"
    }
   ],
   "source": [
    "model.get_model().explained_variance_"
   ]
  },
  {
   "cell_type": "code",
   "execution_count": 30,
   "metadata": {},
   "outputs": [
    {
     "name": "stdout",
     "output_type": "stream",
     "text": [
      "Anomalies 566\n"
     ]
    }
   ],
   "source": [
    "# Calculate how many incorrect instances are detected as anomalies\n",
    "errors = model.predict(df_incorrect)\n",
    "anomalies = np.where(errors > threshold)\n",
    "print('Anomalies ' + str(len(anomalies[0])))"
   ]
  },
  {
   "cell_type": "markdown",
   "metadata": {},
   "source": [
    "# ICA"
   ]
  },
  {
   "cell_type": "code",
   "execution_count": 31,
   "metadata": {},
   "outputs": [],
   "source": [
    "from sklearn.decomposition import FastICA\n",
    "from models.model import ReconstructionErrorModel\n",
    "\n",
    "# Fit reconstruction error model with correct data\n",
    "model = ReconstructionErrorModel(df_correct, model=FastICA(n_components=13))\n",
    "\n",
    "# Calculate anomaly threshold with correct data\n",
    "threshold = np.std(model.predict(df_correct)) * 3"
   ]
  },
  {
   "cell_type": "code",
   "execution_count": 32,
   "metadata": {},
   "outputs": [
    {
     "name": "stdout",
     "output_type": "stream",
     "text": [
      "Anomalies 566\n"
     ]
    }
   ],
   "source": [
    "# Calculate how many incorrect instances are detected as anomalies\n",
    "errors = model.predict(df_incorrect)\n",
    "anomalies = np.where(errors > threshold)\n",
    "print('Anomalies ' + str(len(anomalies[0])))"
   ]
  }
 ],
 "metadata": {
  "kernelspec": {
   "display_name": "Python 3",
   "language": "python",
   "name": "python3"
  },
  "language_info": {
   "codemirror_mode": {
    "name": "ipython",
    "version": 3
   },
   "file_extension": ".py",
   "mimetype": "text/x-python",
   "name": "python",
   "nbconvert_exporter": "python",
   "pygments_lexer": "ipython3",
   "version": "3.8.1"
  }
 },
 "nbformat": 4,
 "nbformat_minor": 4
}
