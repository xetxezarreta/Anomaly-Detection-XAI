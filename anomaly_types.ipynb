{
 "cells": [
  {
   "cell_type": "code",
   "execution_count": 1,
   "metadata": {},
   "outputs": [
    {
     "name": "stdout",
     "output_type": "stream",
     "text": [
      "Target 1 shape: (5055, 38)\n",
      "Target 0 shape: (4959, 38)\n"
     ]
    }
   ],
   "source": [
    "# Read dataset\n",
    "import numpy as np\n",
    "import pandas as pd\n",
    "from sklearn.preprocessing import StandardScaler\n",
    "\n",
    "df = pd.read_csv('data/selected_data.csv')\n",
    "df = df.loc[:, ~df.columns.str.contains('^Unnamed')]\n",
    "\n",
    "df_correct = df.loc[df['target'] == 1].iloc[:,:-1]\n",
    "df_incorrect = df.loc[df['target'] == 0].iloc[:,:-1]\n",
    "\n",
    "print('Target 1 shape: ' + str(df_correct.shape))\n",
    "print('Target 0 shape: ' + str(df_incorrect.shape))"
   ]
  },
  {
   "cell_type": "code",
   "execution_count": 2,
   "metadata": {},
   "outputs": [],
   "source": [
    "# Standarize the data\n",
    "from sklearn.preprocessing import StandardScaler\n",
    "\n",
    "cols = df_correct.columns.values\n",
    "df_correct = pd.DataFrame(StandardScaler().fit_transform(df_correct), columns=cols)\n",
    "df_incorrect = pd.DataFrame(StandardScaler().fit_transform(df_incorrect), columns=cols)"
   ]
  },
  {
   "cell_type": "code",
   "execution_count": 3,
   "metadata": {},
   "outputs": [],
   "source": [
    "from sklearn.decomposition import PCA\n",
    "from models.model import ReconstructionErrorModel\n",
    "\n",
    "# Fit reconstruction error model with correct data\n",
    "model = ReconstructionErrorModel(df_correct, model=PCA(n_components=0.95))\n",
    "\n",
    "# Calculate anomaly threshold with correct data\n",
    "errors = model.predict(df_correct)\n",
    "threshold = np.std(errors) * 3"
   ]
  },
  {
   "cell_type": "code",
   "execution_count": 4,
   "metadata": {},
   "outputs": [
    {
     "data": {
      "text/plain": [
       "0    4565\n",
       "1     394\n",
       "Name: target, dtype: int64"
      ]
     },
     "execution_count": 4,
     "metadata": {},
     "output_type": "execute_result"
    }
   ],
   "source": [
    "# Calculate how many incorrect instances are detected as anomalies\n",
    "errors = model.predict(df_incorrect)\n",
    "df_incorrect['target'] = 0\n",
    "for anomaly in np.where(errors > threshold):    \n",
    "    df_incorrect.at[anomaly, 'target'] = 1\n",
    "\n",
    "df_incorrect['target'].value_counts()"
   ]
  }
 ],
 "metadata": {
  "kernelspec": {
   "display_name": "Python 3",
   "language": "python",
   "name": "python3"
  },
  "language_info": {
   "codemirror_mode": {
    "name": "ipython",
    "version": 3
   },
   "file_extension": ".py",
   "mimetype": "text/x-python",
   "name": "python",
   "nbconvert_exporter": "python",
   "pygments_lexer": "ipython3",
   "version": "3.8.1"
  }
 },
 "nbformat": 4,
 "nbformat_minor": 4
}
