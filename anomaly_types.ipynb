{
 "cells": [
  {
   "cell_type": "code",
   "execution_count": 1,
   "metadata": {},
   "outputs": [],
   "source": [
    "import warnings\n",
    "\n",
    "warnings.filterwarnings(\"ignore\")"
   ]
  },
  {
   "cell_type": "code",
   "execution_count": 2,
   "metadata": {},
   "outputs": [
    {
     "name": "stdout",
     "output_type": "stream",
     "text": [
      "Target 1 shape: (5055, 38)\n",
      "Target 0 shape: (4959, 38)\n"
     ]
    }
   ],
   "source": [
    "# Read dataset\n",
    "import numpy as np\n",
    "import pandas as pd\n",
    "from sklearn.preprocessing import StandardScaler\n",
    "\n",
    "df = pd.read_csv('data/selected_data.csv')\n",
    "df = df.loc[:, ~df.columns.str.contains('^Unnamed')]\n",
    "    \n",
    "df_correct = df.loc[df['target'] == 1].iloc[:,:-1]\n",
    "df_incorrect = df.loc[df['target'] == 0].iloc[:,:-1]\n",
    "\n",
    "print('Target 1 shape: ' + str(df_correct.shape))\n",
    "print('Target 0 shape: ' + str(df_incorrect.shape))"
   ]
  },
  {
   "cell_type": "code",
   "execution_count": 3,
   "metadata": {},
   "outputs": [],
   "source": [
    "# Standarize the data\n",
    "from sklearn.preprocessing import StandardScaler\n",
    "\n",
    "cols = df_correct.columns.values\n",
    "df_correct = pd.DataFrame(StandardScaler().fit_transform(df_correct), columns=cols)\n",
    "df_incorrect = pd.DataFrame(StandardScaler().fit_transform(df_incorrect), columns=cols)"
   ]
  },
  {
   "cell_type": "markdown",
   "metadata": {},
   "source": [
    "# PCA"
   ]
  },
  {
   "cell_type": "code",
   "execution_count": 4,
   "metadata": {},
   "outputs": [],
   "source": [
    "from sklearn.decomposition import PCA\n",
    "from models.model import ReconstructionErrorModel\n",
    "\n",
    "# Fit reconstruction error model with correct data\n",
    "model = ReconstructionErrorModel(df_correct, model=PCA(n_components=0.90))\n",
    "\n",
    "# Calculate anomaly threshold with correct data\n",
    "threshold = np.std(model.predict(df_correct)) * 3"
   ]
  },
  {
   "cell_type": "code",
   "execution_count": 5,
   "metadata": {},
   "outputs": [
    {
     "data": {
      "text/plain": [
       "array([8.91526709, 6.41327153, 5.34798285, 3.98530838, 2.31712789,\n",
       "       1.83134368, 1.54701764, 1.00408688, 0.82917674, 0.73210704,\n",
       "       0.66840828, 0.55335279, 0.49974517])"
      ]
     },
     "execution_count": 5,
     "metadata": {},
     "output_type": "execute_result"
    }
   ],
   "source": [
    "model.get_model().explained_variance_"
   ]
  },
  {
   "cell_type": "code",
   "execution_count": 6,
   "metadata": {},
   "outputs": [
    {
     "name": "stdout",
     "output_type": "stream",
     "text": [
      "Anomalies 566\n"
     ]
    }
   ],
   "source": [
    "# Calculate how many incorrect instances are detected as anomalies\n",
    "errors = model.predict(df_incorrect)\n",
    "anomalies = np.where(errors > threshold)[0]\n",
    "print('Anomalies ' + str(len(anomalies)))"
   ]
  },
  {
   "cell_type": "markdown",
   "metadata": {},
   "source": [
    "# SHAP"
   ]
  },
  {
   "cell_type": "code",
   "execution_count": 8,
   "metadata": {},
   "outputs": [
    {
     "data": {
      "application/vnd.jupyter.widget-view+json": {
       "model_id": "2f369fb301344ddc94b5a832c5009284",
       "version_major": 2,
       "version_minor": 0
      },
      "text/plain": [
       "HBox(children=(FloatProgress(value=0.0, max=566.0), HTML(value='')))"
      ]
     },
     "metadata": {},
     "output_type": "display_data"
    },
    {
     "name": "stdout",
     "output_type": "stream",
     "text": [
      "\n"
     ]
    }
   ],
   "source": [
    "import shap\n",
    "\n",
    "anomaly_instances = df_incorrect.iloc[anomalies,:].reset_index(drop=True)\n",
    "train_summary = shap.kmeans(anomaly_instances, 10)\n",
    "\n",
    "explainer = shap.KernelExplainer(model.predict, train_summary)\n",
    "shap_values = explainer.shap_values(anomaly_instances)"
   ]
  }
 ],
 "metadata": {
  "kernelspec": {
   "display_name": "Python 3",
   "language": "python",
   "name": "python3"
  },
  "language_info": {
   "codemirror_mode": {
    "name": "ipython",
    "version": 3
   },
   "file_extension": ".py",
   "mimetype": "text/x-python",
   "name": "python",
   "nbconvert_exporter": "python",
   "pygments_lexer": "ipython3",
   "version": "3.8.1"
  }
 },
 "nbformat": 4,
 "nbformat_minor": 4
}
